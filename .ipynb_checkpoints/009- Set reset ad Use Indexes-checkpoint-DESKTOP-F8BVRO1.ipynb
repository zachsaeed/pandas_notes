{
 "cells": [
  {
   "cell_type": "markdown",
   "id": "15e6ec49-4642-4eda-be5a-77b8c85d82d2",
   "metadata": {},
   "source": [
    "# Set reset ad Use Indexes"
   ]
  },
  {
   "cell_type": "code",
   "execution_count": 2,
   "id": "08783bb6-8968-4fbf-b9bc-edd8f7c94953",
   "metadata": {},
   "outputs": [],
   "source": [
    "import pandas as pd"
   ]
  },
  {
   "cell_type": "code",
   "execution_count": 3,
   "id": "bb39b454-730f-4e6a-a271-691474a6a747",
   "metadata": {},
   "outputs": [],
   "source": [
    "people = {\n",
    "    'name': ['Syed', 'Saquib', 'Saeed'],\n",
    "    'last': ['Atif', 'Shaeen', 'Saeed'],\n",
    "    'email': ['abc@abc.com', 'JaneDoe@Yahoo.com', 'Saeed@hotmail.com']\n",
    "}"
   ]
  },
  {
   "cell_type": "code",
   "execution_count": 4,
   "id": "eec64ee1-f082-4ffb-97ea-18b3560d2d45",
   "metadata": {},
   "outputs": [
    {
     "data": {
      "text/html": [
       "<div>\n",
       "<style scoped>\n",
       "    .dataframe tbody tr th:only-of-type {\n",
       "        vertical-align: middle;\n",
       "    }\n",
       "\n",
       "    .dataframe tbody tr th {\n",
       "        vertical-align: top;\n",
       "    }\n",
       "\n",
       "    .dataframe thead th {\n",
       "        text-align: right;\n",
       "    }\n",
       "</style>\n",
       "<table border=\"1\" class=\"dataframe\">\n",
       "  <thead>\n",
       "    <tr style=\"text-align: right;\">\n",
       "      <th></th>\n",
       "      <th>name</th>\n",
       "      <th>last</th>\n",
       "      <th>email</th>\n",
       "    </tr>\n",
       "  </thead>\n",
       "  <tbody>\n",
       "    <tr>\n",
       "      <th>0</th>\n",
       "      <td>Syed</td>\n",
       "      <td>Atif</td>\n",
       "      <td>abc@abc.com</td>\n",
       "    </tr>\n",
       "    <tr>\n",
       "      <th>1</th>\n",
       "      <td>Saquib</td>\n",
       "      <td>Faraz</td>\n",
       "      <td>JaneDoe@Yahoo.com</td>\n",
       "    </tr>\n",
       "    <tr>\n",
       "      <th>2</th>\n",
       "      <td>Saeed</td>\n",
       "      <td>Shaheen</td>\n",
       "      <td>Saeed@hotmail.com</td>\n",
       "    </tr>\n",
       "  </tbody>\n",
       "</table>\n",
       "</div>"
      ],
      "text/plain": [
       "     name     last              email\n",
       "0    Syed     Atif        abc@abc.com\n",
       "1  Saquib    Faraz  JaneDoe@Yahoo.com\n",
       "2   Saeed  Shaheen  Saeed@hotmail.com"
      ]
     },
     "execution_count": 4,
     "metadata": {},
     "output_type": "execute_result"
    }
   ],
   "source": [
    "df = pd.DataFrame(people)\n",
    "df"
   ]
  },
  {
   "cell_type": "markdown",
   "id": "db34c7df-665e-4d5d-87a8-d3d294cc4cc7",
   "metadata": {},
   "source": [
    "The left column (0,1,2) is a unique row index used to identify rows by pandas. We can replace this default index with our values as long as all the index values are unique."
   ]
  },
  {
   "cell_type": "code",
   "execution_count": 5,
   "id": "f6b895ee-3ab6-440f-8195-e5353590490b",
   "metadata": {},
   "outputs": [
    {
     "data": {
      "text/html": [
       "<div>\n",
       "<style scoped>\n",
       "    .dataframe tbody tr th:only-of-type {\n",
       "        vertical-align: middle;\n",
       "    }\n",
       "\n",
       "    .dataframe tbody tr th {\n",
       "        vertical-align: top;\n",
       "    }\n",
       "\n",
       "    .dataframe thead th {\n",
       "        text-align: right;\n",
       "    }\n",
       "</style>\n",
       "<table border=\"1\" class=\"dataframe\">\n",
       "  <thead>\n",
       "    <tr style=\"text-align: right;\">\n",
       "      <th></th>\n",
       "      <th>name</th>\n",
       "      <th>last</th>\n",
       "    </tr>\n",
       "    <tr>\n",
       "      <th>email</th>\n",
       "      <th></th>\n",
       "      <th></th>\n",
       "    </tr>\n",
       "  </thead>\n",
       "  <tbody>\n",
       "    <tr>\n",
       "      <th>abc@abc.com</th>\n",
       "      <td>Syed</td>\n",
       "      <td>Atif</td>\n",
       "    </tr>\n",
       "    <tr>\n",
       "      <th>JaneDoe@Yahoo.com</th>\n",
       "      <td>Saquib</td>\n",
       "      <td>Faraz</td>\n",
       "    </tr>\n",
       "    <tr>\n",
       "      <th>Saeed@hotmail.com</th>\n",
       "      <td>Saeed</td>\n",
       "      <td>Shaheen</td>\n",
       "    </tr>\n",
       "  </tbody>\n",
       "</table>\n",
       "</div>"
      ],
      "text/plain": [
       "                     name     last\n",
       "email                             \n",
       "abc@abc.com          Syed     Atif\n",
       "JaneDoe@Yahoo.com  Saquib    Faraz\n",
       "Saeed@hotmail.com   Saeed  Shaheen"
      ]
     },
     "execution_count": 5,
     "metadata": {},
     "output_type": "execute_result"
    }
   ],
   "source": [
    " df.set_index('email')"
   ]
  },
  {
   "cell_type": "markdown",
   "id": "f253cbd5-4540-478c-bcfc-a33259673d33",
   "metadata": {},
   "source": [
    "The original index is still the same. pandas does not update the originl dataframe so we dont end up corrupting it.Original df:"
   ]
  },
  {
   "cell_type": "code",
   "execution_count": 6,
   "id": "0b059d21-df0c-49ae-910f-e852d145d5b4",
   "metadata": {},
   "outputs": [
    {
     "data": {
      "text/html": [
       "<div>\n",
       "<style scoped>\n",
       "    .dataframe tbody tr th:only-of-type {\n",
       "        vertical-align: middle;\n",
       "    }\n",
       "\n",
       "    .dataframe tbody tr th {\n",
       "        vertical-align: top;\n",
       "    }\n",
       "\n",
       "    .dataframe thead th {\n",
       "        text-align: right;\n",
       "    }\n",
       "</style>\n",
       "<table border=\"1\" class=\"dataframe\">\n",
       "  <thead>\n",
       "    <tr style=\"text-align: right;\">\n",
       "      <th></th>\n",
       "      <th>name</th>\n",
       "      <th>last</th>\n",
       "      <th>email</th>\n",
       "    </tr>\n",
       "  </thead>\n",
       "  <tbody>\n",
       "    <tr>\n",
       "      <th>0</th>\n",
       "      <td>Syed</td>\n",
       "      <td>Atif</td>\n",
       "      <td>abc@abc.com</td>\n",
       "    </tr>\n",
       "    <tr>\n",
       "      <th>1</th>\n",
       "      <td>Saquib</td>\n",
       "      <td>Faraz</td>\n",
       "      <td>JaneDoe@Yahoo.com</td>\n",
       "    </tr>\n",
       "    <tr>\n",
       "      <th>2</th>\n",
       "      <td>Saeed</td>\n",
       "      <td>Shaheen</td>\n",
       "      <td>Saeed@hotmail.com</td>\n",
       "    </tr>\n",
       "  </tbody>\n",
       "</table>\n",
       "</div>"
      ],
      "text/plain": [
       "     name     last              email\n",
       "0    Syed     Atif        abc@abc.com\n",
       "1  Saquib    Faraz  JaneDoe@Yahoo.com\n",
       "2   Saeed  Shaheen  Saeed@hotmail.com"
      ]
     },
     "execution_count": 6,
     "metadata": {},
     "output_type": "execute_result"
    }
   ],
   "source": [
    "df"
   ]
  },
  {
   "cell_type": "markdown",
   "id": "283a36ea-2eef-45a3-b46f-b2491f09cbec",
   "metadata": {},
   "source": [
    "To do this in place (in the original dataframe), we can:"
   ]
  },
  {
   "cell_type": "markdown",
   "id": "b136a869-5692-413f-8de9-68b9e4e45a44",
   "metadata": {},
   "source": [
    " df.set_index('email', inplace=True)"
   ]
  },
  {
   "cell_type": "code",
   "execution_count": null,
   "id": "2da0123d-6876-41bf-9523-3a914f8ecf45",
   "metadata": {},
   "outputs": [],
   "source": []
  }
 ],
 "metadata": {
  "kernelspec": {
   "display_name": "Python 3 (ipykernel)",
   "language": "python",
   "name": "python3"
  },
  "language_info": {
   "codemirror_mode": {
    "name": "ipython",
    "version": 3
   },
   "file_extension": ".py",
   "mimetype": "text/x-python",
   "name": "python",
   "nbconvert_exporter": "python",
   "pygments_lexer": "ipython3",
   "version": "3.8.10"
  },
  "widgets": {
   "application/vnd.jupyter.widget-state+json": {
    "state": {},
    "version_major": 2,
    "version_minor": 0
   }
  }
 },
 "nbformat": 4,
 "nbformat_minor": 5
}
