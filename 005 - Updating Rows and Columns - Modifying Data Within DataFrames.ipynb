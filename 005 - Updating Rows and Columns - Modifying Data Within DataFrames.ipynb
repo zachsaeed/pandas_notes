{
 "cells": [
  {
   "cell_type": "markdown",
   "id": "d4fadf47-0c10-4790-99d9-3e233fe7f720",
   "metadata": {},
   "source": [
    "# Updating Rows and Columns - Modifying Data Within DataFrames\n"
   ]
  },
  {
   "cell_type": "code",
   "execution_count": 52,
   "id": "f2e760bd-ad81-4f01-b6c6-26d5506d3601",
   "metadata": {},
   "outputs": [],
   "source": [
    "import pandas as pd"
   ]
  },
  {
   "cell_type": "code",
   "execution_count": 53,
   "id": "e8a7fa3b-ea15-4971-84fb-7a794909f939",
   "metadata": {},
   "outputs": [],
   "source": [
    "people = {\n",
    "    'name': ['Syed', 'Saquib', 'Shaeen'],\n",
    "    'last': ['Atif', 'Saeed', 'Saeed'],\n",
    "    'email': ['abc@abc.com', 'JaneDoe@Yahoo.co.uk', 'Saeed@hotmail.com']\n",
    "}"
   ]
  },
  {
   "cell_type": "code",
   "execution_count": 54,
   "id": "5541d427-11d4-4252-9a27-2421f4d502fe",
   "metadata": {},
   "outputs": [
    {
     "data": {
      "text/html": [
       "<div>\n",
       "<style scoped>\n",
       "    .dataframe tbody tr th:only-of-type {\n",
       "        vertical-align: middle;\n",
       "    }\n",
       "\n",
       "    .dataframe tbody tr th {\n",
       "        vertical-align: top;\n",
       "    }\n",
       "\n",
       "    .dataframe thead th {\n",
       "        text-align: right;\n",
       "    }\n",
       "</style>\n",
       "<table border=\"1\" class=\"dataframe\">\n",
       "  <thead>\n",
       "    <tr style=\"text-align: right;\">\n",
       "      <th></th>\n",
       "      <th>name</th>\n",
       "      <th>last</th>\n",
       "      <th>email</th>\n",
       "    </tr>\n",
       "  </thead>\n",
       "  <tbody>\n",
       "    <tr>\n",
       "      <th>0</th>\n",
       "      <td>Syed</td>\n",
       "      <td>Atif</td>\n",
       "      <td>abc@abc.com</td>\n",
       "    </tr>\n",
       "    <tr>\n",
       "      <th>1</th>\n",
       "      <td>Saquib</td>\n",
       "      <td>Saeed</td>\n",
       "      <td>JaneDoe@Yahoo.co.uk</td>\n",
       "    </tr>\n",
       "    <tr>\n",
       "      <th>2</th>\n",
       "      <td>Shaeen</td>\n",
       "      <td>Saeed</td>\n",
       "      <td>Saeed@hotmail.com</td>\n",
       "    </tr>\n",
       "  </tbody>\n",
       "</table>\n",
       "</div>"
      ],
      "text/plain": [
       "     name   last                email\n",
       "0    Syed   Atif          abc@abc.com\n",
       "1  Saquib  Saeed  JaneDoe@Yahoo.co.uk\n",
       "2  Shaeen  Saeed    Saeed@hotmail.com"
      ]
     },
     "execution_count": 54,
     "metadata": {},
     "output_type": "execute_result"
    }
   ],
   "source": [
    "df = pd.DataFrame(people)\n",
    "df"
   ]
  },
  {
   "cell_type": "markdown",
   "id": "127d3074-0718-40ad-b11d-99ddfaf097a8",
   "metadata": {},
   "source": [
    "# Renaming all column labels at once\n",
    "We can change the name of all our columns at once using the '.columns' property"
   ]
  },
  {
   "cell_type": "code",
   "execution_count": 55,
   "id": "4536d25b-d6f9-42f5-878b-93a05a3f4830",
   "metadata": {},
   "outputs": [
    {
     "data": {
      "text/plain": [
       "Index(['name', 'last', 'email'], dtype='object')"
      ]
     },
     "execution_count": 55,
     "metadata": {},
     "output_type": "execute_result"
    }
   ],
   "source": [
    "df.columns"
   ]
  },
  {
   "cell_type": "code",
   "execution_count": 56,
   "id": "5d97aa76-79e8-452d-9a96-944d185ae7ef",
   "metadata": {},
   "outputs": [
    {
     "data": {
      "text/html": [
       "<div>\n",
       "<style scoped>\n",
       "    .dataframe tbody tr th:only-of-type {\n",
       "        vertical-align: middle;\n",
       "    }\n",
       "\n",
       "    .dataframe tbody tr th {\n",
       "        vertical-align: top;\n",
       "    }\n",
       "\n",
       "    .dataframe thead th {\n",
       "        text-align: right;\n",
       "    }\n",
       "</style>\n",
       "<table border=\"1\" class=\"dataframe\">\n",
       "  <thead>\n",
       "    <tr style=\"text-align: right;\">\n",
       "      <th></th>\n",
       "      <th>first_name</th>\n",
       "      <th>last_name</th>\n",
       "      <th>email</th>\n",
       "    </tr>\n",
       "  </thead>\n",
       "  <tbody>\n",
       "    <tr>\n",
       "      <th>0</th>\n",
       "      <td>Syed</td>\n",
       "      <td>Atif</td>\n",
       "      <td>abc@abc.com</td>\n",
       "    </tr>\n",
       "    <tr>\n",
       "      <th>1</th>\n",
       "      <td>Saquib</td>\n",
       "      <td>Saeed</td>\n",
       "      <td>JaneDoe@Yahoo.co.uk</td>\n",
       "    </tr>\n",
       "    <tr>\n",
       "      <th>2</th>\n",
       "      <td>Shaeen</td>\n",
       "      <td>Saeed</td>\n",
       "      <td>Saeed@hotmail.com</td>\n",
       "    </tr>\n",
       "  </tbody>\n",
       "</table>\n",
       "</div>"
      ],
      "text/plain": [
       "  first_name last_name                email\n",
       "0       Syed      Atif          abc@abc.com\n",
       "1     Saquib     Saeed  JaneDoe@Yahoo.co.uk\n",
       "2     Shaeen     Saeed    Saeed@hotmail.com"
      ]
     },
     "execution_count": 56,
     "metadata": {},
     "output_type": "execute_result"
    }
   ],
   "source": [
    "df.columns = ['first_name','last_name','email']\n",
    "df"
   ]
  },
  {
   "cell_type": "markdown",
   "id": "25d2f0b2-5a04-420a-b9ce-1d40b17cea6a",
   "metadata": {},
   "source": [
    "We can also use list comprehension if we want to apply the same tranformation to all the column names. eg to capitalise all the column labels:"
   ]
  },
  {
   "cell_type": "code",
   "execution_count": 57,
   "id": "072ddfea-b7eb-4833-809c-2f0d0b1acce9",
   "metadata": {},
   "outputs": [
    {
     "data": {
      "text/html": [
       "<div>\n",
       "<style scoped>\n",
       "    .dataframe tbody tr th:only-of-type {\n",
       "        vertical-align: middle;\n",
       "    }\n",
       "\n",
       "    .dataframe tbody tr th {\n",
       "        vertical-align: top;\n",
       "    }\n",
       "\n",
       "    .dataframe thead th {\n",
       "        text-align: right;\n",
       "    }\n",
       "</style>\n",
       "<table border=\"1\" class=\"dataframe\">\n",
       "  <thead>\n",
       "    <tr style=\"text-align: right;\">\n",
       "      <th></th>\n",
       "      <th>FIRST_NAME</th>\n",
       "      <th>LAST_NAME</th>\n",
       "      <th>EMAIL</th>\n",
       "    </tr>\n",
       "  </thead>\n",
       "  <tbody>\n",
       "    <tr>\n",
       "      <th>0</th>\n",
       "      <td>Syed</td>\n",
       "      <td>Atif</td>\n",
       "      <td>abc@abc.com</td>\n",
       "    </tr>\n",
       "    <tr>\n",
       "      <th>1</th>\n",
       "      <td>Saquib</td>\n",
       "      <td>Saeed</td>\n",
       "      <td>JaneDoe@Yahoo.co.uk</td>\n",
       "    </tr>\n",
       "    <tr>\n",
       "      <th>2</th>\n",
       "      <td>Shaeen</td>\n",
       "      <td>Saeed</td>\n",
       "      <td>Saeed@hotmail.com</td>\n",
       "    </tr>\n",
       "  </tbody>\n",
       "</table>\n",
       "</div>"
      ],
      "text/plain": [
       "  FIRST_NAME LAST_NAME                EMAIL\n",
       "0       Syed      Atif          abc@abc.com\n",
       "1     Saquib     Saeed  JaneDoe@Yahoo.co.uk\n",
       "2     Shaeen     Saeed    Saeed@hotmail.com"
      ]
     },
     "execution_count": 57,
     "metadata": {},
     "output_type": "execute_result"
    }
   ],
   "source": [
    "df.columns = [x.upper() for x in df.columns]\n",
    "df"
   ]
  },
  {
   "cell_type": "markdown",
   "id": "10686172-3f17-48bf-8513-8d4e17deca15",
   "metadata": {},
   "source": [
    "We can use the str property of columns to call string methods. For example, can replace _ with spaces:"
   ]
  },
  {
   "cell_type": "code",
   "execution_count": 58,
   "id": "45568708-3851-432a-80b0-1fe9bed23567",
   "metadata": {},
   "outputs": [
    {
     "data": {
      "text/html": [
       "<div>\n",
       "<style scoped>\n",
       "    .dataframe tbody tr th:only-of-type {\n",
       "        vertical-align: middle;\n",
       "    }\n",
       "\n",
       "    .dataframe tbody tr th {\n",
       "        vertical-align: top;\n",
       "    }\n",
       "\n",
       "    .dataframe thead th {\n",
       "        text-align: right;\n",
       "    }\n",
       "</style>\n",
       "<table border=\"1\" class=\"dataframe\">\n",
       "  <thead>\n",
       "    <tr style=\"text-align: right;\">\n",
       "      <th></th>\n",
       "      <th>FIRST NAME</th>\n",
       "      <th>LAST NAME</th>\n",
       "      <th>EMAIL</th>\n",
       "    </tr>\n",
       "  </thead>\n",
       "  <tbody>\n",
       "    <tr>\n",
       "      <th>0</th>\n",
       "      <td>Syed</td>\n",
       "      <td>Atif</td>\n",
       "      <td>abc@abc.com</td>\n",
       "    </tr>\n",
       "    <tr>\n",
       "      <th>1</th>\n",
       "      <td>Saquib</td>\n",
       "      <td>Saeed</td>\n",
       "      <td>JaneDoe@Yahoo.co.uk</td>\n",
       "    </tr>\n",
       "    <tr>\n",
       "      <th>2</th>\n",
       "      <td>Shaeen</td>\n",
       "      <td>Saeed</td>\n",
       "      <td>Saeed@hotmail.com</td>\n",
       "    </tr>\n",
       "  </tbody>\n",
       "</table>\n",
       "</div>"
      ],
      "text/plain": [
       "  FIRST NAME LAST NAME                EMAIL\n",
       "0       Syed      Atif          abc@abc.com\n",
       "1     Saquib     Saeed  JaneDoe@Yahoo.co.uk\n",
       "2     Shaeen     Saeed    Saeed@hotmail.com"
      ]
     },
     "execution_count": 58,
     "metadata": {},
     "output_type": "execute_result"
    }
   ],
   "source": [
    "df.columns = df.columns.str.replace('_', ' ')\n",
    "df"
   ]
  },
  {
   "cell_type": "markdown",
   "id": "38a35a92-1a9f-4ff4-961e-1412a860b610",
   "metadata": {},
   "source": [
    "> Note: Column names with spaces cannot be used using dot notation so will have to use ['col name'] to refer to them\n",
    "\n",
    "# Renaming specific column labels\n",
    "we can change specific columns aswell. So to change the df to its original column names:"
   ]
  },
  {
   "cell_type": "code",
   "execution_count": 59,
   "id": "c35564dc-3c9f-4bd7-991d-7de6f83d63b2",
   "metadata": {},
   "outputs": [
    {
     "data": {
      "text/html": [
       "<div>\n",
       "<style scoped>\n",
       "    .dataframe tbody tr th:only-of-type {\n",
       "        vertical-align: middle;\n",
       "    }\n",
       "\n",
       "    .dataframe tbody tr th {\n",
       "        vertical-align: top;\n",
       "    }\n",
       "\n",
       "    .dataframe thead th {\n",
       "        text-align: right;\n",
       "    }\n",
       "</style>\n",
       "<table border=\"1\" class=\"dataframe\">\n",
       "  <thead>\n",
       "    <tr style=\"text-align: right;\">\n",
       "      <th></th>\n",
       "      <th>first</th>\n",
       "      <th>last</th>\n",
       "      <th>EMAIL</th>\n",
       "    </tr>\n",
       "  </thead>\n",
       "  <tbody>\n",
       "    <tr>\n",
       "      <th>0</th>\n",
       "      <td>Syed</td>\n",
       "      <td>Atif</td>\n",
       "      <td>abc@abc.com</td>\n",
       "    </tr>\n",
       "    <tr>\n",
       "      <th>1</th>\n",
       "      <td>Saquib</td>\n",
       "      <td>Saeed</td>\n",
       "      <td>JaneDoe@Yahoo.co.uk</td>\n",
       "    </tr>\n",
       "    <tr>\n",
       "      <th>2</th>\n",
       "      <td>Shaeen</td>\n",
       "      <td>Saeed</td>\n",
       "      <td>Saeed@hotmail.com</td>\n",
       "    </tr>\n",
       "  </tbody>\n",
       "</table>\n",
       "</div>"
      ],
      "text/plain": [
       "    first   last                EMAIL\n",
       "0    Syed   Atif          abc@abc.com\n",
       "1  Saquib  Saeed  JaneDoe@Yahoo.co.uk\n",
       "2  Shaeen  Saeed    Saeed@hotmail.com"
      ]
     },
     "execution_count": 59,
     "metadata": {},
     "output_type": "execute_result"
    }
   ],
   "source": [
    "df.rename(columns = {'FIRST NAME': 'first', 'LAST NAME': 'last'})"
   ]
  },
  {
   "cell_type": "code",
   "execution_count": 60,
   "id": "bc79f33a-3ca7-4a9b-aa0d-8de843426f9b",
   "metadata": {},
   "outputs": [
    {
     "data": {
      "text/html": [
       "<div>\n",
       "<style scoped>\n",
       "    .dataframe tbody tr th:only-of-type {\n",
       "        vertical-align: middle;\n",
       "    }\n",
       "\n",
       "    .dataframe tbody tr th {\n",
       "        vertical-align: top;\n",
       "    }\n",
       "\n",
       "    .dataframe thead th {\n",
       "        text-align: right;\n",
       "    }\n",
       "</style>\n",
       "<table border=\"1\" class=\"dataframe\">\n",
       "  <thead>\n",
       "    <tr style=\"text-align: right;\">\n",
       "      <th></th>\n",
       "      <th>FIRST NAME</th>\n",
       "      <th>LAST NAME</th>\n",
       "      <th>EMAIL</th>\n",
       "    </tr>\n",
       "  </thead>\n",
       "  <tbody>\n",
       "    <tr>\n",
       "      <th>0</th>\n",
       "      <td>Syed</td>\n",
       "      <td>Atif</td>\n",
       "      <td>abc@abc.com</td>\n",
       "    </tr>\n",
       "    <tr>\n",
       "      <th>1</th>\n",
       "      <td>Saquib</td>\n",
       "      <td>Saeed</td>\n",
       "      <td>JaneDoe@Yahoo.co.uk</td>\n",
       "    </tr>\n",
       "    <tr>\n",
       "      <th>2</th>\n",
       "      <td>Shaeen</td>\n",
       "      <td>Saeed</td>\n",
       "      <td>Saeed@hotmail.com</td>\n",
       "    </tr>\n",
       "  </tbody>\n",
       "</table>\n",
       "</div>"
      ],
      "text/plain": [
       "  FIRST NAME LAST NAME                EMAIL\n",
       "0       Syed      Atif          abc@abc.com\n",
       "1     Saquib     Saeed  JaneDoe@Yahoo.co.uk\n",
       "2     Shaeen     Saeed    Saeed@hotmail.com"
      ]
     },
     "execution_count": 60,
     "metadata": {},
     "output_type": "execute_result"
    }
   ],
   "source": [
    "df"
   ]
  },
  {
   "cell_type": "markdown",
   "id": "21c9f2ba-c223-4da1-b196-a6511fa47cb1",
   "metadata": {},
   "source": [
    "But those changes dont apply to the original df. Therefore:"
   ]
  },
  {
   "cell_type": "code",
   "execution_count": 61,
   "id": "df4e6d37-5e7d-452c-8349-463a7b8ee4c8",
   "metadata": {},
   "outputs": [],
   "source": [
    "df.columns = df.columns.str.replace('EMAIL', 'email')"
   ]
  },
  {
   "cell_type": "code",
   "execution_count": 62,
   "id": "5ccac157-7896-4967-8c4b-b87783241f58",
   "metadata": {},
   "outputs": [
    {
     "data": {
      "text/html": [
       "<div>\n",
       "<style scoped>\n",
       "    .dataframe tbody tr th:only-of-type {\n",
       "        vertical-align: middle;\n",
       "    }\n",
       "\n",
       "    .dataframe tbody tr th {\n",
       "        vertical-align: top;\n",
       "    }\n",
       "\n",
       "    .dataframe thead th {\n",
       "        text-align: right;\n",
       "    }\n",
       "</style>\n",
       "<table border=\"1\" class=\"dataframe\">\n",
       "  <thead>\n",
       "    <tr style=\"text-align: right;\">\n",
       "      <th></th>\n",
       "      <th>first</th>\n",
       "      <th>last</th>\n",
       "      <th>email</th>\n",
       "    </tr>\n",
       "  </thead>\n",
       "  <tbody>\n",
       "    <tr>\n",
       "      <th>0</th>\n",
       "      <td>Syed</td>\n",
       "      <td>Atif</td>\n",
       "      <td>abc@abc.com</td>\n",
       "    </tr>\n",
       "    <tr>\n",
       "      <th>1</th>\n",
       "      <td>Saquib</td>\n",
       "      <td>Saeed</td>\n",
       "      <td>JaneDoe@Yahoo.co.uk</td>\n",
       "    </tr>\n",
       "    <tr>\n",
       "      <th>2</th>\n",
       "      <td>Shaeen</td>\n",
       "      <td>Saeed</td>\n",
       "      <td>Saeed@hotmail.com</td>\n",
       "    </tr>\n",
       "  </tbody>\n",
       "</table>\n",
       "</div>"
      ],
      "text/plain": [
       "    first   last                email\n",
       "0    Syed   Atif          abc@abc.com\n",
       "1  Saquib  Saeed  JaneDoe@Yahoo.co.uk\n",
       "2  Shaeen  Saeed    Saeed@hotmail.com"
      ]
     },
     "execution_count": 62,
     "metadata": {},
     "output_type": "execute_result"
    }
   ],
   "source": [
    "df.rename(columns = {'FIRST NAME': 'first', 'LAST NAME': 'last'}, inplace=True)\n",
    "df"
   ]
  },
  {
   "cell_type": "markdown",
   "id": "40ee3805-220e-42e5-ae22-73081f81b47b",
   "metadata": {},
   "source": [
    "## Changing values of specific whole row:\n",
    "We can grab a row using its index and change all it's values by assigning it a list of values"
   ]
  },
  {
   "cell_type": "code",
   "execution_count": 63,
   "id": "45ebbc52-2ec5-4f57-b66b-ba64734e84f8",
   "metadata": {},
   "outputs": [
    {
     "data": {
      "text/html": [
       "<div>\n",
       "<style scoped>\n",
       "    .dataframe tbody tr th:only-of-type {\n",
       "        vertical-align: middle;\n",
       "    }\n",
       "\n",
       "    .dataframe tbody tr th {\n",
       "        vertical-align: top;\n",
       "    }\n",
       "\n",
       "    .dataframe thead th {\n",
       "        text-align: right;\n",
       "    }\n",
       "</style>\n",
       "<table border=\"1\" class=\"dataframe\">\n",
       "  <thead>\n",
       "    <tr style=\"text-align: right;\">\n",
       "      <th></th>\n",
       "      <th>first</th>\n",
       "      <th>last</th>\n",
       "      <th>email</th>\n",
       "    </tr>\n",
       "  </thead>\n",
       "  <tbody>\n",
       "    <tr>\n",
       "      <th>0</th>\n",
       "      <td>Syed</td>\n",
       "      <td>Atif</td>\n",
       "      <td>abc@abc.com</td>\n",
       "    </tr>\n",
       "    <tr>\n",
       "      <th>1</th>\n",
       "      <td>Saquib</td>\n",
       "      <td>Saeed</td>\n",
       "      <td>JaneDoe@Yahoo.co.uk</td>\n",
       "    </tr>\n",
       "    <tr>\n",
       "      <th>2</th>\n",
       "      <td>John</td>\n",
       "      <td>Smith</td>\n",
       "      <td>JohnSmith@gmail.com</td>\n",
       "    </tr>\n",
       "  </tbody>\n",
       "</table>\n",
       "</div>"
      ],
      "text/plain": [
       "    first   last                email\n",
       "0    Syed   Atif          abc@abc.com\n",
       "1  Saquib  Saeed  JaneDoe@Yahoo.co.uk\n",
       "2    John  Smith  JohnSmith@gmail.com"
      ]
     },
     "execution_count": 63,
     "metadata": {},
     "output_type": "execute_result"
    }
   ],
   "source": [
    "df.loc[2] = ['John', 'Smith', 'JohnSmith@gmail.com']\n",
    "df"
   ]
  },
  {
   "cell_type": "markdown",
   "id": "bf7d3706-1ea1-4d24-8a64-6e570bd90bfa",
   "metadata": {},
   "source": [
    "## Changing values of specific row and columns"
   ]
  },
  {
   "cell_type": "code",
   "execution_count": 64,
   "id": "19715586-2eca-4629-983e-4644cd66a261",
   "metadata": {},
   "outputs": [
    {
     "data": {
      "text/html": [
       "<div>\n",
       "<style scoped>\n",
       "    .dataframe tbody tr th:only-of-type {\n",
       "        vertical-align: middle;\n",
       "    }\n",
       "\n",
       "    .dataframe tbody tr th {\n",
       "        vertical-align: top;\n",
       "    }\n",
       "\n",
       "    .dataframe thead th {\n",
       "        text-align: right;\n",
       "    }\n",
       "</style>\n",
       "<table border=\"1\" class=\"dataframe\">\n",
       "  <thead>\n",
       "    <tr style=\"text-align: right;\">\n",
       "      <th></th>\n",
       "      <th>first</th>\n",
       "      <th>last</th>\n",
       "      <th>email</th>\n",
       "    </tr>\n",
       "  </thead>\n",
       "  <tbody>\n",
       "    <tr>\n",
       "      <th>0</th>\n",
       "      <td>Syed</td>\n",
       "      <td>Atif</td>\n",
       "      <td>abc@abc.com</td>\n",
       "    </tr>\n",
       "    <tr>\n",
       "      <th>1</th>\n",
       "      <td>Saquib</td>\n",
       "      <td>Saeed</td>\n",
       "      <td>JaneDoe@Yahoo.co.uk</td>\n",
       "    </tr>\n",
       "    <tr>\n",
       "      <th>2</th>\n",
       "      <td>John</td>\n",
       "      <td>Shaheen</td>\n",
       "      <td>Saeed@hotmail.com</td>\n",
       "    </tr>\n",
       "  </tbody>\n",
       "</table>\n",
       "</div>"
      ],
      "text/plain": [
       "    first     last                email\n",
       "0    Syed     Atif          abc@abc.com\n",
       "1  Saquib    Saeed  JaneDoe@Yahoo.co.uk\n",
       "2    John  Shaheen    Saeed@hotmail.com"
      ]
     },
     "execution_count": 64,
     "metadata": {},
     "output_type": "execute_result"
    }
   ],
   "source": [
    "df.loc[2, ['last', 'email']] = ['Shaheen','Saeed@hotmail.com']\n",
    "df"
   ]
  },
  {
   "cell_type": "code",
   "execution_count": 65,
   "id": "205e383a-e42c-4678-823d-178cce1c8993",
   "metadata": {},
   "outputs": [
    {
     "data": {
      "text/html": [
       "<div>\n",
       "<style scoped>\n",
       "    .dataframe tbody tr th:only-of-type {\n",
       "        vertical-align: middle;\n",
       "    }\n",
       "\n",
       "    .dataframe tbody tr th {\n",
       "        vertical-align: top;\n",
       "    }\n",
       "\n",
       "    .dataframe thead th {\n",
       "        text-align: right;\n",
       "    }\n",
       "</style>\n",
       "<table border=\"1\" class=\"dataframe\">\n",
       "  <thead>\n",
       "    <tr style=\"text-align: right;\">\n",
       "      <th></th>\n",
       "      <th>first</th>\n",
       "      <th>last</th>\n",
       "      <th>email</th>\n",
       "    </tr>\n",
       "  </thead>\n",
       "  <tbody>\n",
       "    <tr>\n",
       "      <th>0</th>\n",
       "      <td>Syed</td>\n",
       "      <td>Shaheen</td>\n",
       "      <td>Saeed@hotmail.com</td>\n",
       "    </tr>\n",
       "    <tr>\n",
       "      <th>1</th>\n",
       "      <td>Saquib</td>\n",
       "      <td>Saeed</td>\n",
       "      <td>JaneDoe@Yahoo.co.uk</td>\n",
       "    </tr>\n",
       "    <tr>\n",
       "      <th>2</th>\n",
       "      <td>John</td>\n",
       "      <td>Shaheen</td>\n",
       "      <td>Saeed@hotmail.com</td>\n",
       "    </tr>\n",
       "  </tbody>\n",
       "</table>\n",
       "</div>"
      ],
      "text/plain": [
       "    first     last                email\n",
       "0    Syed  Shaheen    Saeed@hotmail.com\n",
       "1  Saquib    Saeed  JaneDoe@Yahoo.co.uk\n",
       "2    John  Shaheen    Saeed@hotmail.com"
      ]
     },
     "execution_count": 65,
     "metadata": {},
     "output_type": "execute_result"
    }
   ],
   "source": [
    "# multiple indexes:\n",
    "df.loc[[0,2], ['last', 'email']] = ['Shaheen','Saeed@hotmail.com']\n",
    "df"
   ]
  },
  {
   "cell_type": "markdown",
   "id": "8022711c-a08b-4210-b795-0feff266d0f1",
   "metadata": {},
   "source": [
    "We can also use .at instead of loc\n",
    "\n",
    "@TODO Difference b/w at and loc"
   ]
  },
  {
   "cell_type": "code",
   "execution_count": 66,
   "id": "f331f702-970e-46d5-a87d-c1ab5df3f916",
   "metadata": {},
   "outputs": [
    {
     "data": {
      "text/html": [
       "<div>\n",
       "<style scoped>\n",
       "    .dataframe tbody tr th:only-of-type {\n",
       "        vertical-align: middle;\n",
       "    }\n",
       "\n",
       "    .dataframe tbody tr th {\n",
       "        vertical-align: top;\n",
       "    }\n",
       "\n",
       "    .dataframe thead th {\n",
       "        text-align: right;\n",
       "    }\n",
       "</style>\n",
       "<table border=\"1\" class=\"dataframe\">\n",
       "  <thead>\n",
       "    <tr style=\"text-align: right;\">\n",
       "      <th></th>\n",
       "      <th>first</th>\n",
       "      <th>last</th>\n",
       "      <th>email</th>\n",
       "    </tr>\n",
       "  </thead>\n",
       "  <tbody>\n",
       "    <tr>\n",
       "      <th>0</th>\n",
       "      <td>Syed</td>\n",
       "      <td>Shaheen</td>\n",
       "      <td>Saeed@hotmail.com</td>\n",
       "    </tr>\n",
       "    <tr>\n",
       "      <th>1</th>\n",
       "      <td>Saquib</td>\n",
       "      <td>Saeed</td>\n",
       "      <td>JaneDoe@Yahoo.co.uk</td>\n",
       "    </tr>\n",
       "    <tr>\n",
       "      <th>2</th>\n",
       "      <td>John</td>\n",
       "      <td>Doe</td>\n",
       "      <td>Saeed@hotmail.com</td>\n",
       "    </tr>\n",
       "  </tbody>\n",
       "</table>\n",
       "</div>"
      ],
      "text/plain": [
       "    first     last                email\n",
       "0    Syed  Shaheen    Saeed@hotmail.com\n",
       "1  Saquib    Saeed  JaneDoe@Yahoo.co.uk\n",
       "2    John      Doe    Saeed@hotmail.com"
      ]
     },
     "execution_count": 66,
     "metadata": {},
     "output_type": "execute_result"
    }
   ],
   "source": [
    "df.at[2, 'last'] = 'Doe'\n",
    "df"
   ]
  },
  {
   "cell_type": "markdown",
   "id": "461857b8-bcc4-4e36-84af-9406bfc5b394",
   "metadata": {},
   "source": [
    "## Using filters to update columns\n",
    "\n",
    "> Note: we cannot change a value to a dataframe (which is the result of a filter) directly:"
   ]
  },
  {
   "cell_type": "code",
   "execution_count": 67,
   "id": "3a6cde4c-2f4d-45f3-bcd7-4107f28e2689",
   "metadata": {},
   "outputs": [
    {
     "data": {
      "text/html": [
       "<div>\n",
       "<style scoped>\n",
       "    .dataframe tbody tr th:only-of-type {\n",
       "        vertical-align: middle;\n",
       "    }\n",
       "\n",
       "    .dataframe tbody tr th {\n",
       "        vertical-align: top;\n",
       "    }\n",
       "\n",
       "    .dataframe thead th {\n",
       "        text-align: right;\n",
       "    }\n",
       "</style>\n",
       "<table border=\"1\" class=\"dataframe\">\n",
       "  <thead>\n",
       "    <tr style=\"text-align: right;\">\n",
       "      <th></th>\n",
       "      <th>first</th>\n",
       "      <th>last</th>\n",
       "      <th>email</th>\n",
       "    </tr>\n",
       "  </thead>\n",
       "  <tbody>\n",
       "    <tr>\n",
       "      <th>1</th>\n",
       "      <td>Saquib</td>\n",
       "      <td>Saeed</td>\n",
       "      <td>JaneDoe@Yahoo.co.uk</td>\n",
       "    </tr>\n",
       "  </tbody>\n",
       "</table>\n",
       "</div>"
      ],
      "text/plain": [
       "    first   last                email\n",
       "1  Saquib  Saeed  JaneDoe@Yahoo.co.uk"
      ]
     },
     "execution_count": 67,
     "metadata": {},
     "output_type": "execute_result"
    }
   ],
   "source": [
    "filt = (df['email'] == 'JaneDoe@Yahoo.co.uk')\n",
    "df[filt]"
   ]
  },
  {
   "cell_type": "code",
   "execution_count": 68,
   "id": "5d731ff6-dadd-4f0c-9b93-c61890324008",
   "metadata": {},
   "outputs": [],
   "source": [
    "# df[filt]['last'] = 'SMith'  # SettingWithCopyWarning: "
   ]
  },
  {
   "cell_type": "markdown",
   "id": "521c19da-b80c-4542-9cb8-f3113333f067",
   "metadata": {},
   "source": [
    "This is because of how pandas manages dataframes in the background. The result of a df filter is a copy of the original dataframe hence assigning a value to it wont make the change to the original df. This is why pandas limits us from doing this. We can rerun the same operation above using loc:"
   ]
  },
  {
   "cell_type": "code",
   "execution_count": 69,
   "id": "13255510-0fb3-4e51-8b9d-b023b76f0fc7",
   "metadata": {},
   "outputs": [
    {
     "data": {
      "text/html": [
       "<div>\n",
       "<style scoped>\n",
       "    .dataframe tbody tr th:only-of-type {\n",
       "        vertical-align: middle;\n",
       "    }\n",
       "\n",
       "    .dataframe tbody tr th {\n",
       "        vertical-align: top;\n",
       "    }\n",
       "\n",
       "    .dataframe thead th {\n",
       "        text-align: right;\n",
       "    }\n",
       "</style>\n",
       "<table border=\"1\" class=\"dataframe\">\n",
       "  <thead>\n",
       "    <tr style=\"text-align: right;\">\n",
       "      <th></th>\n",
       "      <th>first</th>\n",
       "      <th>last</th>\n",
       "      <th>email</th>\n",
       "    </tr>\n",
       "  </thead>\n",
       "  <tbody>\n",
       "    <tr>\n",
       "      <th>0</th>\n",
       "      <td>Syed</td>\n",
       "      <td>Shaheen</td>\n",
       "      <td>Saeed@hotmail.com</td>\n",
       "    </tr>\n",
       "    <tr>\n",
       "      <th>1</th>\n",
       "      <td>Saquib</td>\n",
       "      <td>Smith</td>\n",
       "      <td>JaneDoe@Yahoo.co.uk</td>\n",
       "    </tr>\n",
       "    <tr>\n",
       "      <th>2</th>\n",
       "      <td>John</td>\n",
       "      <td>Doe</td>\n",
       "      <td>Saeed@hotmail.com</td>\n",
       "    </tr>\n",
       "  </tbody>\n",
       "</table>\n",
       "</div>"
      ],
      "text/plain": [
       "    first     last                email\n",
       "0    Syed  Shaheen    Saeed@hotmail.com\n",
       "1  Saquib    Smith  JaneDoe@Yahoo.co.uk\n",
       "2    John      Doe    Saeed@hotmail.com"
      ]
     },
     "execution_count": 69,
     "metadata": {},
     "output_type": "execute_result"
    }
   ],
   "source": [
    "df.loc[filt, 'last'] = 'Smith'\n",
    "df"
   ]
  },
  {
   "cell_type": "markdown",
   "id": "5b2c650d-045c-4987-bb77-da7d04c38728",
   "metadata": {},
   "source": [
    "## updating muliple rows at once"
   ]
  },
  {
   "cell_type": "code",
   "execution_count": 70,
   "id": "76909162-207d-402c-94cc-3d247986dddb",
   "metadata": {},
   "outputs": [
    {
     "data": {
      "text/plain": [
       "0      saeed@hotmail.com\n",
       "1    janedoe@yahoo.co.uk\n",
       "2      saeed@hotmail.com\n",
       "Name: email, dtype: object"
      ]
     },
     "execution_count": 70,
     "metadata": {},
     "output_type": "execute_result"
    }
   ],
   "source": [
    "df['email'].str.lower()"
   ]
  },
  {
   "cell_type": "code",
   "execution_count": 71,
   "id": "bcb73d18-a94d-41dc-8826-5b3b9820a98d",
   "metadata": {},
   "outputs": [
    {
     "data": {
      "text/html": [
       "<div>\n",
       "<style scoped>\n",
       "    .dataframe tbody tr th:only-of-type {\n",
       "        vertical-align: middle;\n",
       "    }\n",
       "\n",
       "    .dataframe tbody tr th {\n",
       "        vertical-align: top;\n",
       "    }\n",
       "\n",
       "    .dataframe thead th {\n",
       "        text-align: right;\n",
       "    }\n",
       "</style>\n",
       "<table border=\"1\" class=\"dataframe\">\n",
       "  <thead>\n",
       "    <tr style=\"text-align: right;\">\n",
       "      <th></th>\n",
       "      <th>first</th>\n",
       "      <th>last</th>\n",
       "      <th>email</th>\n",
       "    </tr>\n",
       "  </thead>\n",
       "  <tbody>\n",
       "    <tr>\n",
       "      <th>0</th>\n",
       "      <td>Syed</td>\n",
       "      <td>Shaheen</td>\n",
       "      <td>Saeed@hotmail.com</td>\n",
       "    </tr>\n",
       "    <tr>\n",
       "      <th>1</th>\n",
       "      <td>Saquib</td>\n",
       "      <td>Smith</td>\n",
       "      <td>JaneDoe@Yahoo.co.uk</td>\n",
       "    </tr>\n",
       "    <tr>\n",
       "      <th>2</th>\n",
       "      <td>John</td>\n",
       "      <td>Doe</td>\n",
       "      <td>Saeed@hotmail.com</td>\n",
       "    </tr>\n",
       "  </tbody>\n",
       "</table>\n",
       "</div>"
      ],
      "text/plain": [
       "    first     last                email\n",
       "0    Syed  Shaheen    Saeed@hotmail.com\n",
       "1  Saquib    Smith  JaneDoe@Yahoo.co.uk\n",
       "2    John      Doe    Saeed@hotmail.com"
      ]
     },
     "execution_count": 71,
     "metadata": {},
     "output_type": "execute_result"
    }
   ],
   "source": [
    "df"
   ]
  },
  {
   "cell_type": "markdown",
   "id": "f9952aec-013d-4388-bf7f-43c9f3cc1ab1",
   "metadata": {},
   "source": [
    "As you can see above, this change is not applied to the original df. Therefore:"
   ]
  },
  {
   "cell_type": "code",
   "execution_count": 72,
   "id": "7ca6cf9c-13de-4de8-9a61-70a176193428",
   "metadata": {},
   "outputs": [
    {
     "data": {
      "text/html": [
       "<div>\n",
       "<style scoped>\n",
       "    .dataframe tbody tr th:only-of-type {\n",
       "        vertical-align: middle;\n",
       "    }\n",
       "\n",
       "    .dataframe tbody tr th {\n",
       "        vertical-align: top;\n",
       "    }\n",
       "\n",
       "    .dataframe thead th {\n",
       "        text-align: right;\n",
       "    }\n",
       "</style>\n",
       "<table border=\"1\" class=\"dataframe\">\n",
       "  <thead>\n",
       "    <tr style=\"text-align: right;\">\n",
       "      <th></th>\n",
       "      <th>first</th>\n",
       "      <th>last</th>\n",
       "      <th>email</th>\n",
       "    </tr>\n",
       "  </thead>\n",
       "  <tbody>\n",
       "    <tr>\n",
       "      <th>0</th>\n",
       "      <td>Syed</td>\n",
       "      <td>Shaheen</td>\n",
       "      <td>saeed@hotmail.com</td>\n",
       "    </tr>\n",
       "    <tr>\n",
       "      <th>1</th>\n",
       "      <td>Saquib</td>\n",
       "      <td>Smith</td>\n",
       "      <td>janedoe@yahoo.co.uk</td>\n",
       "    </tr>\n",
       "    <tr>\n",
       "      <th>2</th>\n",
       "      <td>John</td>\n",
       "      <td>Doe</td>\n",
       "      <td>saeed@hotmail.com</td>\n",
       "    </tr>\n",
       "  </tbody>\n",
       "</table>\n",
       "</div>"
      ],
      "text/plain": [
       "    first     last                email\n",
       "0    Syed  Shaheen    saeed@hotmail.com\n",
       "1  Saquib    Smith  janedoe@yahoo.co.uk\n",
       "2    John      Doe    saeed@hotmail.com"
      ]
     },
     "execution_count": 72,
     "metadata": {},
     "output_type": "execute_result"
    }
   ],
   "source": [
    "df['email'] = df['email'].str.lower()\n",
    "df"
   ]
  },
  {
   "cell_type": "markdown",
   "id": "061c716a-92b5-40a7-bb4a-7d459e562bec",
   "metadata": {},
   "source": [
    "## Using methods:\n",
    "Panmdas provides us with 4 popular methods which can be used to update multiple rows at once. They are:\n",
    "1. apply\n",
    "2. map\n",
    "3. applymap\n",
    "4. replace\n",
    "\n",
    "### apply()\n",
    "Used to call a function on our values. Can be called on a series or on a dataframe. \n",
    "\n",
    "On a series, it applies function lambda function to every item in our series:"
   ]
  },
  {
   "cell_type": "code",
   "execution_count": 73,
   "id": "3de3ef86-e39d-4a43-a55f-388b83190ff1",
   "metadata": {},
   "outputs": [
    {
     "data": {
      "text/plain": [
       "0    17\n",
       "1    19\n",
       "2    17\n",
       "Name: email, dtype: int64"
      ]
     },
     "execution_count": 73,
     "metadata": {},
     "output_type": "execute_result"
    }
   ],
   "source": [
    "sr_email = df['email']\n",
    "sr_email.apply(len)"
   ]
  },
  {
   "cell_type": "code",
   "execution_count": 74,
   "id": "26282366-19bc-4900-88cc-a048c9222ee0",
   "metadata": {},
   "outputs": [],
   "source": [
    "def update_email(email):\n",
    "    return email.upper()"
   ]
  },
  {
   "cell_type": "code",
   "execution_count": 75,
   "id": "6d87667c-a0cb-468c-962a-1b5c071c5f93",
   "metadata": {},
   "outputs": [
    {
     "data": {
      "text/plain": [
       "0      SAEED@HOTMAIL.COM\n",
       "1    JANEDOE@YAHOO.CO.UK\n",
       "2      SAEED@HOTMAIL.COM\n",
       "Name: email, dtype: object"
      ]
     },
     "execution_count": 75,
     "metadata": {},
     "output_type": "execute_result"
    }
   ],
   "source": [
    "sr_email.apply(update_email)"
   ]
  },
  {
   "cell_type": "markdown",
   "id": "9543cc53-4ee1-45d0-a656-c3772a8dc32e",
   "metadata": {},
   "source": [
    "To apply this to the original dataframe, "
   ]
  },
  {
   "cell_type": "code",
   "execution_count": 76,
   "id": "5abfe09b-132a-4c5f-ad0c-cb5de6a4ce88",
   "metadata": {},
   "outputs": [
    {
     "data": {
      "text/html": [
       "<div>\n",
       "<style scoped>\n",
       "    .dataframe tbody tr th:only-of-type {\n",
       "        vertical-align: middle;\n",
       "    }\n",
       "\n",
       "    .dataframe tbody tr th {\n",
       "        vertical-align: top;\n",
       "    }\n",
       "\n",
       "    .dataframe thead th {\n",
       "        text-align: right;\n",
       "    }\n",
       "</style>\n",
       "<table border=\"1\" class=\"dataframe\">\n",
       "  <thead>\n",
       "    <tr style=\"text-align: right;\">\n",
       "      <th></th>\n",
       "      <th>first</th>\n",
       "      <th>last</th>\n",
       "      <th>email</th>\n",
       "    </tr>\n",
       "  </thead>\n",
       "  <tbody>\n",
       "    <tr>\n",
       "      <th>0</th>\n",
       "      <td>Syed</td>\n",
       "      <td>Shaheen</td>\n",
       "      <td>SAEED@HOTMAIL.COM</td>\n",
       "    </tr>\n",
       "    <tr>\n",
       "      <th>1</th>\n",
       "      <td>Saquib</td>\n",
       "      <td>Smith</td>\n",
       "      <td>JANEDOE@YAHOO.CO.UK</td>\n",
       "    </tr>\n",
       "    <tr>\n",
       "      <th>2</th>\n",
       "      <td>John</td>\n",
       "      <td>Doe</td>\n",
       "      <td>SAEED@HOTMAIL.COM</td>\n",
       "    </tr>\n",
       "  </tbody>\n",
       "</table>\n",
       "</div>"
      ],
      "text/plain": [
       "    first     last                email\n",
       "0    Syed  Shaheen    SAEED@HOTMAIL.COM\n",
       "1  Saquib    Smith  JANEDOE@YAHOO.CO.UK\n",
       "2    John      Doe    SAEED@HOTMAIL.COM"
      ]
     },
     "execution_count": 76,
     "metadata": {},
     "output_type": "execute_result"
    }
   ],
   "source": [
    "df['email'] = df['email'].apply(update_email)\n",
    "df"
   ]
  },
  {
   "cell_type": "code",
   "execution_count": 77,
   "id": "c78494e8-3c52-4ece-acc0-c4dca0a729a0",
   "metadata": {},
   "outputs": [
    {
     "data": {
      "text/html": [
       "<div>\n",
       "<style scoped>\n",
       "    .dataframe tbody tr th:only-of-type {\n",
       "        vertical-align: middle;\n",
       "    }\n",
       "\n",
       "    .dataframe tbody tr th {\n",
       "        vertical-align: top;\n",
       "    }\n",
       "\n",
       "    .dataframe thead th {\n",
       "        text-align: right;\n",
       "    }\n",
       "</style>\n",
       "<table border=\"1\" class=\"dataframe\">\n",
       "  <thead>\n",
       "    <tr style=\"text-align: right;\">\n",
       "      <th></th>\n",
       "      <th>first</th>\n",
       "      <th>last</th>\n",
       "      <th>email</th>\n",
       "    </tr>\n",
       "  </thead>\n",
       "  <tbody>\n",
       "    <tr>\n",
       "      <th>0</th>\n",
       "      <td>Syed</td>\n",
       "      <td>Shaheen</td>\n",
       "      <td>saeed@hotmail.com</td>\n",
       "    </tr>\n",
       "    <tr>\n",
       "      <th>1</th>\n",
       "      <td>Saquib</td>\n",
       "      <td>Smith</td>\n",
       "      <td>janedoe@yahoo.co.uk</td>\n",
       "    </tr>\n",
       "    <tr>\n",
       "      <th>2</th>\n",
       "      <td>John</td>\n",
       "      <td>Doe</td>\n",
       "      <td>saeed@hotmail.com</td>\n",
       "    </tr>\n",
       "  </tbody>\n",
       "</table>\n",
       "</div>"
      ],
      "text/plain": [
       "    first     last                email\n",
       "0    Syed  Shaheen    saeed@hotmail.com\n",
       "1  Saquib    Smith  janedoe@yahoo.co.uk\n",
       "2    John      Doe    saeed@hotmail.com"
      ]
     },
     "execution_count": 77,
     "metadata": {},
     "output_type": "execute_result"
    }
   ],
   "source": [
    "# lambda function:\n",
    "df['email'] = df['email'].apply(lambda x: x.lower())\n",
    "df"
   ]
  },
  {
   "cell_type": "markdown",
   "id": "9fb101b2-305c-46bd-bff5-8d276b4d348e",
   "metadata": {},
   "source": [
    "On a dataframes, it applies function lambda function to each column or row (Series) in the dataframe:"
   ]
  },
  {
   "cell_type": "code",
   "execution_count": 78,
   "id": "d2393847-f0d5-4052-8b71-8a223fbdcde1",
   "metadata": {},
   "outputs": [
    {
     "data": {
      "text/plain": [
       "first    3\n",
       "last     3\n",
       "email    3\n",
       "dtype: int64"
      ]
     },
     "execution_count": 78,
     "metadata": {},
     "output_type": "execute_result"
    }
   ],
   "source": [
    "df.apply(len)"
   ]
  },
  {
   "cell_type": "markdown",
   "id": "13c364ec-4075-4dec-860f-a90cc44e5bf4",
   "metadata": {},
   "source": [
    "ie it is calling ```len(df['first'])```, ```len(df['last'])``` and ```len(df['email'])``` on every column (series) and returning the number of rows eg"
   ]
  },
  {
   "cell_type": "code",
   "execution_count": 79,
   "id": "cc2eafd4-53da-4d7e-9143-82a6bed9157d",
   "metadata": {},
   "outputs": [
    {
     "data": {
      "text/plain": [
       "3"
      ]
     },
     "execution_count": 79,
     "metadata": {},
     "output_type": "execute_result"
    }
   ],
   "source": [
    "len(df['first'])"
   ]
  },
  {
   "cell_type": "markdown",
   "id": "49344c10-dd24-46af-9d99-eec588bd387e",
   "metadata": {},
   "source": [
    "We can call apply on dataframe row series aswell by changing the axis:"
   ]
  },
  {
   "cell_type": "code",
   "execution_count": 80,
   "id": "0a1f7fbd-54cf-4617-9e5e-60131dfcd750",
   "metadata": {},
   "outputs": [
    {
     "data": {
      "text/plain": [
       "0    3\n",
       "1    3\n",
       "2    3\n",
       "dtype: int64"
      ]
     },
     "execution_count": 80,
     "metadata": {},
     "output_type": "execute_result"
    }
   ],
   "source": [
    "df.apply(len, axis = 'columns')  # where: axis = 'rows' is default"
   ]
  },
  {
   "cell_type": "markdown",
   "id": "0519dc91-97a1-4938-b889-99bf86a9004b",
   "metadata": {},
   "source": [
    "ie it is calling ```len(df.loc[0])```, ```len(df.loc[1])``` and ```len(df.loc[2])``` on every row (series) and returning the number of rows eg"
   ]
  },
  {
   "cell_type": "code",
   "execution_count": 81,
   "id": "eb3f1516-e311-4ba8-a3ff-94aba8dedf8b",
   "metadata": {},
   "outputs": [
    {
     "data": {
      "text/plain": [
       "3"
      ]
     },
     "execution_count": 81,
     "metadata": {},
     "output_type": "execute_result"
    }
   ],
   "source": [
    "len(df.loc[0])"
   ]
  },
  {
   "cell_type": "markdown",
   "id": "8f2a5e68-c407-4975-a3d2-ea6d0ec8cc42",
   "metadata": {},
   "source": [
    "> Note: When you pass a method to dataframe's apply(), the method is called on whole series (row or column series etc). That's why len returns the length of the series"
   ]
  },
  {
   "cell_type": "markdown",
   "id": "bed1e21a-0294-45af-b7ec-445a0c6df552",
   "metadata": {},
   "source": [
    "There are methods that are built into Series class. For example:"
   ]
  },
  {
   "cell_type": "code",
   "execution_count": 82,
   "id": "9ba6e502-57e9-47ea-a0b7-b324afba4c7d",
   "metadata": {},
   "outputs": [
    {
     "data": {
      "text/plain": [
       "first                   John\n",
       "last                     Doe\n",
       "email    janedoe@yahoo.co.uk\n",
       "dtype: object"
      ]
     },
     "execution_count": 82,
     "metadata": {},
     "output_type": "execute_result"
    }
   ],
   "source": [
    "df.apply(pd.Series.min)"
   ]
  },
  {
   "cell_type": "code",
   "execution_count": 83,
   "id": "cb323dc0-ec93-43e9-a472-933b9a1d9fcc",
   "metadata": {},
   "outputs": [
    {
     "data": {
      "text/plain": [
       "first                   John\n",
       "last                     Doe\n",
       "email    janedoe@yahoo.co.uk\n",
       "dtype: object"
      ]
     },
     "execution_count": 83,
     "metadata": {},
     "output_type": "execute_result"
    }
   ],
   "source": [
    "df.apply(lambda x: x.min())  # Since x is a series, its the same as calling pd.Series.min"
   ]
  },
  {
   "cell_type": "markdown",
   "id": "159ab2af-3336-463c-9318-6a3fd6d026cf",
   "metadata": {},
   "source": [
    "> So to summarise, when calling apply()\n",
    "> 1. On a series, it applies function / lambda function to every item in our series.\n",
    "> 2. On a dataframes, it applies function / lambda function to each column or row (Series) in the dataframe.\n",
    "\n",
    "### applymap()\n",
    "Used to apply a function to every individual value / cell in a dataframe. \n",
    "It only exists in dataframes but not in series objects"
   ]
  },
  {
   "cell_type": "code",
   "execution_count": 84,
   "id": "521d5668-687e-467b-b6aa-96f462b70388",
   "metadata": {},
   "outputs": [
    {
     "data": {
      "text/html": [
       "<div>\n",
       "<style scoped>\n",
       "    .dataframe tbody tr th:only-of-type {\n",
       "        vertical-align: middle;\n",
       "    }\n",
       "\n",
       "    .dataframe tbody tr th {\n",
       "        vertical-align: top;\n",
       "    }\n",
       "\n",
       "    .dataframe thead th {\n",
       "        text-align: right;\n",
       "    }\n",
       "</style>\n",
       "<table border=\"1\" class=\"dataframe\">\n",
       "  <thead>\n",
       "    <tr style=\"text-align: right;\">\n",
       "      <th></th>\n",
       "      <th>first</th>\n",
       "      <th>last</th>\n",
       "      <th>email</th>\n",
       "    </tr>\n",
       "  </thead>\n",
       "  <tbody>\n",
       "    <tr>\n",
       "      <th>0</th>\n",
       "      <td>4</td>\n",
       "      <td>7</td>\n",
       "      <td>17</td>\n",
       "    </tr>\n",
       "    <tr>\n",
       "      <th>1</th>\n",
       "      <td>6</td>\n",
       "      <td>5</td>\n",
       "      <td>19</td>\n",
       "    </tr>\n",
       "    <tr>\n",
       "      <th>2</th>\n",
       "      <td>4</td>\n",
       "      <td>3</td>\n",
       "      <td>17</td>\n",
       "    </tr>\n",
       "  </tbody>\n",
       "</table>\n",
       "</div>"
      ],
      "text/plain": [
       "   first  last  email\n",
       "0      4     7     17\n",
       "1      6     5     19\n",
       "2      4     3     17"
      ]
     },
     "execution_count": 84,
     "metadata": {},
     "output_type": "execute_result"
    }
   ],
   "source": [
    "df.applymap(len)"
   ]
  },
  {
   "cell_type": "code",
   "execution_count": 85,
   "id": "6f9b7ad7-131f-4354-abdb-0b38001f4bd1",
   "metadata": {},
   "outputs": [
    {
     "data": {
      "text/html": [
       "<div>\n",
       "<style scoped>\n",
       "    .dataframe tbody tr th:only-of-type {\n",
       "        vertical-align: middle;\n",
       "    }\n",
       "\n",
       "    .dataframe tbody tr th {\n",
       "        vertical-align: top;\n",
       "    }\n",
       "\n",
       "    .dataframe thead th {\n",
       "        text-align: right;\n",
       "    }\n",
       "</style>\n",
       "<table border=\"1\" class=\"dataframe\">\n",
       "  <thead>\n",
       "    <tr style=\"text-align: right;\">\n",
       "      <th></th>\n",
       "      <th>first</th>\n",
       "      <th>last</th>\n",
       "      <th>email</th>\n",
       "    </tr>\n",
       "  </thead>\n",
       "  <tbody>\n",
       "    <tr>\n",
       "      <th>0</th>\n",
       "      <td>syed</td>\n",
       "      <td>shaheen</td>\n",
       "      <td>saeed@hotmail.com</td>\n",
       "    </tr>\n",
       "    <tr>\n",
       "      <th>1</th>\n",
       "      <td>saquib</td>\n",
       "      <td>smith</td>\n",
       "      <td>janedoe@yahoo.co.uk</td>\n",
       "    </tr>\n",
       "    <tr>\n",
       "      <th>2</th>\n",
       "      <td>john</td>\n",
       "      <td>doe</td>\n",
       "      <td>saeed@hotmail.com</td>\n",
       "    </tr>\n",
       "  </tbody>\n",
       "</table>\n",
       "</div>"
      ],
      "text/plain": [
       "    first     last                email\n",
       "0    syed  shaheen    saeed@hotmail.com\n",
       "1  saquib    smith  janedoe@yahoo.co.uk\n",
       "2    john      doe    saeed@hotmail.com"
      ]
     },
     "execution_count": 85,
     "metadata": {},
     "output_type": "execute_result"
    }
   ],
   "source": [
    "df.applymap(str.lower)"
   ]
  },
  {
   "cell_type": "markdown",
   "id": "9345605b-5c31-4e7d-af7c-6bb675a6a584",
   "metadata": {},
   "source": [
    "### map()\n",
    "Used for substituting each value in a series to another value. It only exists in series but not the dataframe object."
   ]
  },
  {
   "cell_type": "code",
   "execution_count": 86,
   "id": "22bf7fd9-0f63-4dd5-b245-be805b775935",
   "metadata": {},
   "outputs": [
    {
     "data": {
      "text/plain": [
       "0    Ahmed\n",
       "1      NaN\n",
       "2     Azam\n",
       "Name: first, dtype: object"
      ]
     },
     "execution_count": 86,
     "metadata": {},
     "output_type": "execute_result"
    }
   ],
   "source": [
    "df['first'].map({'Syed': 'Ahmed', 'John': 'Azam'})"
   ]
  },
  {
   "cell_type": "markdown",
   "id": "39bc895b-a961-4eea-a1b1-143754c1454f",
   "metadata": {},
   "source": [
    "> Note: The values that we did not map were converted into a NaN\n",
    "\n",
    "### replace()\n",
    "Since maps inserts NaN for values that are not in the update dict, we can use replace() which keeps the values which are not replaced by dict"
   ]
  },
  {
   "cell_type": "code",
   "execution_count": 87,
   "id": "b43eaa07-5dd9-43c6-ac4e-66e8dd8eaa25",
   "metadata": {},
   "outputs": [
    {
     "data": {
      "text/plain": [
       "0     Ahmed\n",
       "1    Saquib\n",
       "2      Azam\n",
       "Name: first, dtype: object"
      ]
     },
     "execution_count": 87,
     "metadata": {},
     "output_type": "execute_result"
    }
   ],
   "source": [
    "df['first'].replace({'Syed': 'Ahmed', 'John': 'Azam'})"
   ]
  },
  {
   "cell_type": "markdown",
   "id": "a36d129a-9e8c-4ef7-9a5a-ca27028dcebb",
   "metadata": {},
   "source": [
    "map and replace return a series and do not update the df they are called on. To update the df:"
   ]
  },
  {
   "cell_type": "code",
   "execution_count": 88,
   "id": "6e503ce4-b390-487f-9f8c-c4e6feb2ee32",
   "metadata": {},
   "outputs": [
    {
     "data": {
      "text/html": [
       "<div>\n",
       "<style scoped>\n",
       "    .dataframe tbody tr th:only-of-type {\n",
       "        vertical-align: middle;\n",
       "    }\n",
       "\n",
       "    .dataframe tbody tr th {\n",
       "        vertical-align: top;\n",
       "    }\n",
       "\n",
       "    .dataframe thead th {\n",
       "        text-align: right;\n",
       "    }\n",
       "</style>\n",
       "<table border=\"1\" class=\"dataframe\">\n",
       "  <thead>\n",
       "    <tr style=\"text-align: right;\">\n",
       "      <th></th>\n",
       "      <th>first</th>\n",
       "      <th>last</th>\n",
       "      <th>email</th>\n",
       "    </tr>\n",
       "  </thead>\n",
       "  <tbody>\n",
       "    <tr>\n",
       "      <th>0</th>\n",
       "      <td>Ahmed</td>\n",
       "      <td>Shaheen</td>\n",
       "      <td>saeed@hotmail.com</td>\n",
       "    </tr>\n",
       "    <tr>\n",
       "      <th>1</th>\n",
       "      <td>Saquib</td>\n",
       "      <td>Smith</td>\n",
       "      <td>janedoe@yahoo.co.uk</td>\n",
       "    </tr>\n",
       "    <tr>\n",
       "      <th>2</th>\n",
       "      <td>Azam</td>\n",
       "      <td>Doe</td>\n",
       "      <td>saeed@hotmail.com</td>\n",
       "    </tr>\n",
       "  </tbody>\n",
       "</table>\n",
       "</div>"
      ],
      "text/plain": [
       "    first     last                email\n",
       "0   Ahmed  Shaheen    saeed@hotmail.com\n",
       "1  Saquib    Smith  janedoe@yahoo.co.uk\n",
       "2    Azam      Doe    saeed@hotmail.com"
      ]
     },
     "execution_count": 88,
     "metadata": {},
     "output_type": "execute_result"
    }
   ],
   "source": [
    "df['first'] = df['first'].replace({'Syed': 'Ahmed', 'John': 'Azam'})\n",
    "df"
   ]
  },
  {
   "cell_type": "markdown",
   "id": "dc2a866e-1319-47a0-8faa-ff77dc9162e5",
   "metadata": {},
   "source": [
    "we will now run the above functionality on our stackoverflow dataset:"
   ]
  },
  {
   "cell_type": "code",
   "execution_count": 89,
   "id": "58e64ea9-1c3d-4440-a5e5-16358a10dd52",
   "metadata": {},
   "outputs": [],
   "source": [
    "df = pd.read_csv('./data/survey_results_public.csv')\n",
    "schema_df = pd.read_csv('./data/survey_results_schema.csv')"
   ]
  },
  {
   "cell_type": "code",
   "execution_count": 90,
   "id": "4428623c-8348-4267-bd4b-4bff56ae8878",
   "metadata": {},
   "outputs": [
    {
     "data": {
      "text/html": [
       "<div>\n",
       "<style scoped>\n",
       "    .dataframe tbody tr th:only-of-type {\n",
       "        vertical-align: middle;\n",
       "    }\n",
       "\n",
       "    .dataframe tbody tr th {\n",
       "        vertical-align: top;\n",
       "    }\n",
       "\n",
       "    .dataframe thead th {\n",
       "        text-align: right;\n",
       "    }\n",
       "</style>\n",
       "<table border=\"1\" class=\"dataframe\">\n",
       "  <thead>\n",
       "    <tr style=\"text-align: right;\">\n",
       "      <th></th>\n",
       "      <th>Respondent</th>\n",
       "      <th>MainBranch</th>\n",
       "      <th>Hobbyist</th>\n",
       "      <th>OpenSourcer</th>\n",
       "      <th>OpenSource</th>\n",
       "      <th>Employment</th>\n",
       "      <th>Country</th>\n",
       "      <th>Student</th>\n",
       "      <th>EdLevel</th>\n",
       "      <th>UndergradMajor</th>\n",
       "      <th>EduOther</th>\n",
       "      <th>OrgSize</th>\n",
       "      <th>DevType</th>\n",
       "      <th>YearsCode</th>\n",
       "      <th>Age1stCode</th>\n",
       "      <th>YearsCodePro</th>\n",
       "      <th>CareerSat</th>\n",
       "      <th>JobSat</th>\n",
       "      <th>MgrIdiot</th>\n",
       "      <th>MgrMoney</th>\n",
       "      <th>MgrWant</th>\n",
       "      <th>JobSeek</th>\n",
       "      <th>LastHireDate</th>\n",
       "      <th>LastInt</th>\n",
       "      <th>FizzBuzz</th>\n",
       "      <th>JobFactors</th>\n",
       "      <th>ResumeUpdate</th>\n",
       "      <th>CurrencySymbol</th>\n",
       "      <th>CurrencyDesc</th>\n",
       "      <th>CompTotal</th>\n",
       "      <th>CompFreq</th>\n",
       "      <th>ConvertedComp</th>\n",
       "      <th>WorkWeekHrs</th>\n",
       "      <th>WorkPlan</th>\n",
       "      <th>WorkChallenge</th>\n",
       "      <th>WorkRemote</th>\n",
       "      <th>WorkLoc</th>\n",
       "      <th>ImpSyn</th>\n",
       "      <th>CodeRev</th>\n",
       "      <th>CodeRevHrs</th>\n",
       "      <th>UnitTests</th>\n",
       "      <th>PurchaseHow</th>\n",
       "      <th>PurchaseWhat</th>\n",
       "      <th>LanguageWorkedWith</th>\n",
       "      <th>LanguageDesireNextYear</th>\n",
       "      <th>DatabaseWorkedWith</th>\n",
       "      <th>DatabaseDesireNextYear</th>\n",
       "      <th>PlatformWorkedWith</th>\n",
       "      <th>PlatformDesireNextYear</th>\n",
       "      <th>WebFrameWorkedWith</th>\n",
       "      <th>WebFrameDesireNextYear</th>\n",
       "      <th>MiscTechWorkedWith</th>\n",
       "      <th>MiscTechDesireNextYear</th>\n",
       "      <th>DevEnviron</th>\n",
       "      <th>OpSys</th>\n",
       "      <th>Containers</th>\n",
       "      <th>BlockchainOrg</th>\n",
       "      <th>BlockchainIs</th>\n",
       "      <th>BetterLife</th>\n",
       "      <th>ITperson</th>\n",
       "      <th>OffOn</th>\n",
       "      <th>SocialMedia</th>\n",
       "      <th>Extraversion</th>\n",
       "      <th>ScreenName</th>\n",
       "      <th>SOVisit1st</th>\n",
       "      <th>SOVisitFreq</th>\n",
       "      <th>SOVisitTo</th>\n",
       "      <th>SOFindAnswer</th>\n",
       "      <th>SOTimeSaved</th>\n",
       "      <th>SOHowMuchTime</th>\n",
       "      <th>SOAccount</th>\n",
       "      <th>SOPartFreq</th>\n",
       "      <th>SOJobs</th>\n",
       "      <th>EntTeams</th>\n",
       "      <th>SOComm</th>\n",
       "      <th>WelcomeChange</th>\n",
       "      <th>SONewContent</th>\n",
       "      <th>Age</th>\n",
       "      <th>Gender</th>\n",
       "      <th>Trans</th>\n",
       "      <th>Sexuality</th>\n",
       "      <th>Ethnicity</th>\n",
       "      <th>Dependents</th>\n",
       "      <th>SurveyLength</th>\n",
       "      <th>SurveyEase</th>\n",
       "    </tr>\n",
       "  </thead>\n",
       "  <tbody>\n",
       "    <tr>\n",
       "      <th>0</th>\n",
       "      <td>1</td>\n",
       "      <td>I am a student who is learning to code</td>\n",
       "      <td>Yes</td>\n",
       "      <td>Never</td>\n",
       "      <td>The quality of OSS and closed source software ...</td>\n",
       "      <td>Not employed, and not looking for work</td>\n",
       "      <td>United Kingdom</td>\n",
       "      <td>No</td>\n",
       "      <td>Primary/elementary school</td>\n",
       "      <td>NaN</td>\n",
       "      <td>Taught yourself a new language, framework, or ...</td>\n",
       "      <td>NaN</td>\n",
       "      <td>NaN</td>\n",
       "      <td>4</td>\n",
       "      <td>10</td>\n",
       "      <td>NaN</td>\n",
       "      <td>NaN</td>\n",
       "      <td>NaN</td>\n",
       "      <td>NaN</td>\n",
       "      <td>NaN</td>\n",
       "      <td>NaN</td>\n",
       "      <td>NaN</td>\n",
       "      <td>NaN</td>\n",
       "      <td>NaN</td>\n",
       "      <td>NaN</td>\n",
       "      <td>NaN</td>\n",
       "      <td>NaN</td>\n",
       "      <td>NaN</td>\n",
       "      <td>NaN</td>\n",
       "      <td>NaN</td>\n",
       "      <td>NaN</td>\n",
       "      <td>NaN</td>\n",
       "      <td>NaN</td>\n",
       "      <td>NaN</td>\n",
       "      <td>NaN</td>\n",
       "      <td>NaN</td>\n",
       "      <td>NaN</td>\n",
       "      <td>NaN</td>\n",
       "      <td>NaN</td>\n",
       "      <td>NaN</td>\n",
       "      <td>NaN</td>\n",
       "      <td>NaN</td>\n",
       "      <td>NaN</td>\n",
       "      <td>HTML/CSS;Java;JavaScript;Python</td>\n",
       "      <td>C;C++;C#;Go;HTML/CSS;Java;JavaScript;Python;SQL</td>\n",
       "      <td>SQLite</td>\n",
       "      <td>MySQL</td>\n",
       "      <td>MacOS;Windows</td>\n",
       "      <td>Android;Arduino;Windows</td>\n",
       "      <td>Django;Flask</td>\n",
       "      <td>Flask;jQuery</td>\n",
       "      <td>Node.js</td>\n",
       "      <td>Node.js</td>\n",
       "      <td>IntelliJ;Notepad++;PyCharm</td>\n",
       "      <td>Windows</td>\n",
       "      <td>I do not use containers</td>\n",
       "      <td>NaN</td>\n",
       "      <td>NaN</td>\n",
       "      <td>Yes</td>\n",
       "      <td>Fortunately, someone else has that title</td>\n",
       "      <td>Yes</td>\n",
       "      <td>Twitter</td>\n",
       "      <td>Online</td>\n",
       "      <td>Username</td>\n",
       "      <td>2017</td>\n",
       "      <td>A few times per month or weekly</td>\n",
       "      <td>Find answers to specific questions;Learn how t...</td>\n",
       "      <td>3-5 times per week</td>\n",
       "      <td>Stack Overflow was much faster</td>\n",
       "      <td>31-60 minutes</td>\n",
       "      <td>No</td>\n",
       "      <td>NaN</td>\n",
       "      <td>No, I didn't know that Stack Overflow had a jo...</td>\n",
       "      <td>No, and I don't know what those are</td>\n",
       "      <td>Neutral</td>\n",
       "      <td>Just as welcome now as I felt last year</td>\n",
       "      <td>Tech articles written by other developers;Indu...</td>\n",
       "      <td>14.0</td>\n",
       "      <td>Man</td>\n",
       "      <td>No</td>\n",
       "      <td>Straight / Heterosexual</td>\n",
       "      <td>NaN</td>\n",
       "      <td>No</td>\n",
       "      <td>Appropriate in length</td>\n",
       "      <td>Neither easy nor difficult</td>\n",
       "    </tr>\n",
       "    <tr>\n",
       "      <th>1</th>\n",
       "      <td>2</td>\n",
       "      <td>I am a student who is learning to code</td>\n",
       "      <td>No</td>\n",
       "      <td>Less than once per year</td>\n",
       "      <td>The quality of OSS and closed source software ...</td>\n",
       "      <td>Not employed, but looking for work</td>\n",
       "      <td>Bosnia and Herzegovina</td>\n",
       "      <td>Yes, full-time</td>\n",
       "      <td>Secondary school (e.g. American high school, G...</td>\n",
       "      <td>NaN</td>\n",
       "      <td>Taken an online course in programming or softw...</td>\n",
       "      <td>NaN</td>\n",
       "      <td>Developer, desktop or enterprise applications;...</td>\n",
       "      <td>NaN</td>\n",
       "      <td>17</td>\n",
       "      <td>NaN</td>\n",
       "      <td>NaN</td>\n",
       "      <td>NaN</td>\n",
       "      <td>NaN</td>\n",
       "      <td>NaN</td>\n",
       "      <td>NaN</td>\n",
       "      <td>I am actively looking for a job</td>\n",
       "      <td>I've never had a job</td>\n",
       "      <td>NaN</td>\n",
       "      <td>NaN</td>\n",
       "      <td>Financial performance or funding status of the...</td>\n",
       "      <td>Something else changed (education, award, medi...</td>\n",
       "      <td>NaN</td>\n",
       "      <td>NaN</td>\n",
       "      <td>NaN</td>\n",
       "      <td>NaN</td>\n",
       "      <td>NaN</td>\n",
       "      <td>NaN</td>\n",
       "      <td>NaN</td>\n",
       "      <td>NaN</td>\n",
       "      <td>NaN</td>\n",
       "      <td>NaN</td>\n",
       "      <td>NaN</td>\n",
       "      <td>NaN</td>\n",
       "      <td>NaN</td>\n",
       "      <td>NaN</td>\n",
       "      <td>NaN</td>\n",
       "      <td>NaN</td>\n",
       "      <td>C++;HTML/CSS;Python</td>\n",
       "      <td>C++;HTML/CSS;JavaScript;SQL</td>\n",
       "      <td>NaN</td>\n",
       "      <td>MySQL</td>\n",
       "      <td>Windows</td>\n",
       "      <td>Windows</td>\n",
       "      <td>Django</td>\n",
       "      <td>Django</td>\n",
       "      <td>NaN</td>\n",
       "      <td>NaN</td>\n",
       "      <td>Atom;PyCharm</td>\n",
       "      <td>Windows</td>\n",
       "      <td>I do not use containers</td>\n",
       "      <td>NaN</td>\n",
       "      <td>Useful across many domains and could change ma...</td>\n",
       "      <td>Yes</td>\n",
       "      <td>Yes</td>\n",
       "      <td>Yes</td>\n",
       "      <td>Instagram</td>\n",
       "      <td>Online</td>\n",
       "      <td>Username</td>\n",
       "      <td>2017</td>\n",
       "      <td>Daily or almost daily</td>\n",
       "      <td>Find answers to specific questions;Learn how t...</td>\n",
       "      <td>3-5 times per week</td>\n",
       "      <td>Stack Overflow was much faster</td>\n",
       "      <td>11-30 minutes</td>\n",
       "      <td>Yes</td>\n",
       "      <td>A few times per month or weekly</td>\n",
       "      <td>No, I knew that Stack Overflow had a job board...</td>\n",
       "      <td>No, and I don't know what those are</td>\n",
       "      <td>Yes, somewhat</td>\n",
       "      <td>Just as welcome now as I felt last year</td>\n",
       "      <td>Tech articles written by other developers;Indu...</td>\n",
       "      <td>19.0</td>\n",
       "      <td>Man</td>\n",
       "      <td>No</td>\n",
       "      <td>Straight / Heterosexual</td>\n",
       "      <td>NaN</td>\n",
       "      <td>No</td>\n",
       "      <td>Appropriate in length</td>\n",
       "      <td>Neither easy nor difficult</td>\n",
       "    </tr>\n",
       "    <tr>\n",
       "      <th>2</th>\n",
       "      <td>3</td>\n",
       "      <td>I am not primarily a developer, but I write co...</td>\n",
       "      <td>Yes</td>\n",
       "      <td>Never</td>\n",
       "      <td>The quality of OSS and closed source software ...</td>\n",
       "      <td>Employed full-time</td>\n",
       "      <td>Thailand</td>\n",
       "      <td>No</td>\n",
       "      <td>Bachelor’s degree (BA, BS, B.Eng., etc.)</td>\n",
       "      <td>Web development or web design</td>\n",
       "      <td>Taught yourself a new language, framework, or ...</td>\n",
       "      <td>100 to 499 employees</td>\n",
       "      <td>Designer;Developer, back-end;Developer, front-...</td>\n",
       "      <td>3</td>\n",
       "      <td>22</td>\n",
       "      <td>1</td>\n",
       "      <td>Slightly satisfied</td>\n",
       "      <td>Slightly satisfied</td>\n",
       "      <td>Not at all confident</td>\n",
       "      <td>Not sure</td>\n",
       "      <td>Not sure</td>\n",
       "      <td>I’m not actively looking, but I am open to new...</td>\n",
       "      <td>1-2 years ago</td>\n",
       "      <td>Interview with people in peer roles</td>\n",
       "      <td>No</td>\n",
       "      <td>Languages, frameworks, and other technologies ...</td>\n",
       "      <td>I was preparing for a job search</td>\n",
       "      <td>THB</td>\n",
       "      <td>Thai baht</td>\n",
       "      <td>23000.0</td>\n",
       "      <td>Monthly</td>\n",
       "      <td>8820.0</td>\n",
       "      <td>40.0</td>\n",
       "      <td>There's no schedule or spec; I work on what se...</td>\n",
       "      <td>Distracting work environment;Inadequate access...</td>\n",
       "      <td>Less than once per month / Never</td>\n",
       "      <td>Home</td>\n",
       "      <td>Average</td>\n",
       "      <td>No</td>\n",
       "      <td>NaN</td>\n",
       "      <td>No, but I think we should</td>\n",
       "      <td>Not sure</td>\n",
       "      <td>I have little or no influence</td>\n",
       "      <td>HTML/CSS</td>\n",
       "      <td>Elixir;HTML/CSS</td>\n",
       "      <td>PostgreSQL</td>\n",
       "      <td>PostgreSQL</td>\n",
       "      <td>NaN</td>\n",
       "      <td>NaN</td>\n",
       "      <td>NaN</td>\n",
       "      <td>Other(s):</td>\n",
       "      <td>NaN</td>\n",
       "      <td>NaN</td>\n",
       "      <td>Vim;Visual Studio Code</td>\n",
       "      <td>Linux-based</td>\n",
       "      <td>I do not use containers</td>\n",
       "      <td>NaN</td>\n",
       "      <td>NaN</td>\n",
       "      <td>Yes</td>\n",
       "      <td>Yes</td>\n",
       "      <td>Yes</td>\n",
       "      <td>Reddit</td>\n",
       "      <td>In real life (in person)</td>\n",
       "      <td>Username</td>\n",
       "      <td>2011</td>\n",
       "      <td>A few times per week</td>\n",
       "      <td>Find answers to specific questions;Learn how t...</td>\n",
       "      <td>6-10 times per week</td>\n",
       "      <td>They were about the same</td>\n",
       "      <td>NaN</td>\n",
       "      <td>Yes</td>\n",
       "      <td>Less than once per month or monthly</td>\n",
       "      <td>Yes</td>\n",
       "      <td>No, I've heard of them, but I am not part of a...</td>\n",
       "      <td>Neutral</td>\n",
       "      <td>Just as welcome now as I felt last year</td>\n",
       "      <td>Tech meetups or events in your area;Courses on...</td>\n",
       "      <td>28.0</td>\n",
       "      <td>Man</td>\n",
       "      <td>No</td>\n",
       "      <td>Straight / Heterosexual</td>\n",
       "      <td>NaN</td>\n",
       "      <td>Yes</td>\n",
       "      <td>Appropriate in length</td>\n",
       "      <td>Neither easy nor difficult</td>\n",
       "    </tr>\n",
       "    <tr>\n",
       "      <th>3</th>\n",
       "      <td>4</td>\n",
       "      <td>I am a developer by profession</td>\n",
       "      <td>No</td>\n",
       "      <td>Never</td>\n",
       "      <td>The quality of OSS and closed source software ...</td>\n",
       "      <td>Employed full-time</td>\n",
       "      <td>United States</td>\n",
       "      <td>No</td>\n",
       "      <td>Bachelor’s degree (BA, BS, B.Eng., etc.)</td>\n",
       "      <td>Computer science, computer engineering, or sof...</td>\n",
       "      <td>Taken an online course in programming or softw...</td>\n",
       "      <td>100 to 499 employees</td>\n",
       "      <td>Developer, full-stack</td>\n",
       "      <td>3</td>\n",
       "      <td>16</td>\n",
       "      <td>Less than 1 year</td>\n",
       "      <td>Very satisfied</td>\n",
       "      <td>Slightly satisfied</td>\n",
       "      <td>Very confident</td>\n",
       "      <td>No</td>\n",
       "      <td>Not sure</td>\n",
       "      <td>I am not interested in new job opportunities</td>\n",
       "      <td>Less than a year ago</td>\n",
       "      <td>Write code by hand (e.g., on a whiteboard);Int...</td>\n",
       "      <td>No</td>\n",
       "      <td>Languages, frameworks, and other technologies ...</td>\n",
       "      <td>I was preparing for a job search</td>\n",
       "      <td>USD</td>\n",
       "      <td>United States dollar</td>\n",
       "      <td>61000.0</td>\n",
       "      <td>Yearly</td>\n",
       "      <td>61000.0</td>\n",
       "      <td>80.0</td>\n",
       "      <td>There's no schedule or spec; I work on what se...</td>\n",
       "      <td>NaN</td>\n",
       "      <td>Less than once per month / Never</td>\n",
       "      <td>Home</td>\n",
       "      <td>A little below average</td>\n",
       "      <td>No</td>\n",
       "      <td>NaN</td>\n",
       "      <td>No, but I think we should</td>\n",
       "      <td>Developers typically have the most influence o...</td>\n",
       "      <td>I have little or no influence</td>\n",
       "      <td>C;C++;C#;Python;SQL</td>\n",
       "      <td>C;C#;JavaScript;SQL</td>\n",
       "      <td>MySQL;SQLite</td>\n",
       "      <td>MySQL;SQLite</td>\n",
       "      <td>Linux;Windows</td>\n",
       "      <td>Linux;Windows</td>\n",
       "      <td>NaN</td>\n",
       "      <td>NaN</td>\n",
       "      <td>.NET</td>\n",
       "      <td>.NET</td>\n",
       "      <td>Eclipse;Vim;Visual Studio;Visual Studio Code</td>\n",
       "      <td>Windows</td>\n",
       "      <td>I do not use containers</td>\n",
       "      <td>Not at all</td>\n",
       "      <td>Useful for decentralized currency (i.e., Bitcoin)</td>\n",
       "      <td>Yes</td>\n",
       "      <td>SIGH</td>\n",
       "      <td>Yes</td>\n",
       "      <td>Reddit</td>\n",
       "      <td>In real life (in person)</td>\n",
       "      <td>Username</td>\n",
       "      <td>2014</td>\n",
       "      <td>Daily or almost daily</td>\n",
       "      <td>Find answers to specific questions;Pass the ti...</td>\n",
       "      <td>1-2 times per week</td>\n",
       "      <td>Stack Overflow was much faster</td>\n",
       "      <td>31-60 minutes</td>\n",
       "      <td>Yes</td>\n",
       "      <td>Less than once per month or monthly</td>\n",
       "      <td>Yes</td>\n",
       "      <td>No, and I don't know what those are</td>\n",
       "      <td>No, not really</td>\n",
       "      <td>Just as welcome now as I felt last year</td>\n",
       "      <td>Tech articles written by other developers;Indu...</td>\n",
       "      <td>22.0</td>\n",
       "      <td>Man</td>\n",
       "      <td>No</td>\n",
       "      <td>Straight / Heterosexual</td>\n",
       "      <td>White or of European descent</td>\n",
       "      <td>No</td>\n",
       "      <td>Appropriate in length</td>\n",
       "      <td>Easy</td>\n",
       "    </tr>\n",
       "    <tr>\n",
       "      <th>4</th>\n",
       "      <td>5</td>\n",
       "      <td>I am a developer by profession</td>\n",
       "      <td>Yes</td>\n",
       "      <td>Once a month or more often</td>\n",
       "      <td>OSS is, on average, of HIGHER quality than pro...</td>\n",
       "      <td>Employed full-time</td>\n",
       "      <td>Ukraine</td>\n",
       "      <td>No</td>\n",
       "      <td>Bachelor’s degree (BA, BS, B.Eng., etc.)</td>\n",
       "      <td>Computer science, computer engineering, or sof...</td>\n",
       "      <td>Taken an online course in programming or softw...</td>\n",
       "      <td>10,000 or more employees</td>\n",
       "      <td>Academic researcher;Developer, desktop or ente...</td>\n",
       "      <td>16</td>\n",
       "      <td>14</td>\n",
       "      <td>9</td>\n",
       "      <td>Very dissatisfied</td>\n",
       "      <td>Slightly dissatisfied</td>\n",
       "      <td>Somewhat confident</td>\n",
       "      <td>Yes</td>\n",
       "      <td>No</td>\n",
       "      <td>I am not interested in new job opportunities</td>\n",
       "      <td>Less than a year ago</td>\n",
       "      <td>Write any code;Write code by hand (e.g., on a ...</td>\n",
       "      <td>No</td>\n",
       "      <td>Industry that I'd be working in;Languages, fra...</td>\n",
       "      <td>I was preparing for a job search</td>\n",
       "      <td>UAH</td>\n",
       "      <td>Ukrainian hryvnia</td>\n",
       "      <td>NaN</td>\n",
       "      <td>NaN</td>\n",
       "      <td>NaN</td>\n",
       "      <td>55.0</td>\n",
       "      <td>There is a schedule and/or spec (made by me or...</td>\n",
       "      <td>Being tasked with non-development work;Inadequ...</td>\n",
       "      <td>A few days each month</td>\n",
       "      <td>Office</td>\n",
       "      <td>A little above average</td>\n",
       "      <td>Yes, because I see value in code review</td>\n",
       "      <td>NaN</td>\n",
       "      <td>Yes, it's part of our process</td>\n",
       "      <td>Not sure</td>\n",
       "      <td>I have little or no influence</td>\n",
       "      <td>C++;HTML/CSS;Java;JavaScript;Python;SQL;VBA</td>\n",
       "      <td>HTML/CSS;Java;JavaScript;SQL;WebAssembly</td>\n",
       "      <td>Couchbase;MongoDB;MySQL;Oracle;PostgreSQL;SQLite</td>\n",
       "      <td>Couchbase;Firebase;MongoDB;MySQL;Oracle;Postgr...</td>\n",
       "      <td>Android;Linux;MacOS;Slack;Windows</td>\n",
       "      <td>Android;Docker;Kubernetes;Linux;Slack</td>\n",
       "      <td>Django;Express;Flask;jQuery;React.js;Spring</td>\n",
       "      <td>Flask;jQuery;React.js;Spring</td>\n",
       "      <td>Cordova;Node.js</td>\n",
       "      <td>Apache Spark;Hadoop;Node.js;React Native</td>\n",
       "      <td>IntelliJ;Notepad++;Vim</td>\n",
       "      <td>Linux-based</td>\n",
       "      <td>Outside of work, for personal projects</td>\n",
       "      <td>Not at all</td>\n",
       "      <td>NaN</td>\n",
       "      <td>Yes</td>\n",
       "      <td>Also Yes</td>\n",
       "      <td>Yes</td>\n",
       "      <td>Facebook</td>\n",
       "      <td>In real life (in person)</td>\n",
       "      <td>Username</td>\n",
       "      <td>I don't remember</td>\n",
       "      <td>Multiple times per day</td>\n",
       "      <td>Find answers to specific questions</td>\n",
       "      <td>More than 10 times per week</td>\n",
       "      <td>Stack Overflow was much faster</td>\n",
       "      <td>NaN</td>\n",
       "      <td>Yes</td>\n",
       "      <td>A few times per month or weekly</td>\n",
       "      <td>No, I knew that Stack Overflow had a job board...</td>\n",
       "      <td>No, I've heard of them, but I am not part of a...</td>\n",
       "      <td>Yes, definitely</td>\n",
       "      <td>Just as welcome now as I felt last year</td>\n",
       "      <td>Tech meetups or events in your area;Courses on...</td>\n",
       "      <td>30.0</td>\n",
       "      <td>Man</td>\n",
       "      <td>No</td>\n",
       "      <td>Straight / Heterosexual</td>\n",
       "      <td>White or of European descent;Multiracial</td>\n",
       "      <td>No</td>\n",
       "      <td>Appropriate in length</td>\n",
       "      <td>Easy</td>\n",
       "    </tr>\n",
       "  </tbody>\n",
       "</table>\n",
       "</div>"
      ],
      "text/plain": [
       "   Respondent                                         MainBranch Hobbyist  \\\n",
       "0           1             I am a student who is learning to code      Yes   \n",
       "1           2             I am a student who is learning to code       No   \n",
       "2           3  I am not primarily a developer, but I write co...      Yes   \n",
       "3           4                     I am a developer by profession       No   \n",
       "4           5                     I am a developer by profession      Yes   \n",
       "\n",
       "                  OpenSourcer  \\\n",
       "0                       Never   \n",
       "1     Less than once per year   \n",
       "2                       Never   \n",
       "3                       Never   \n",
       "4  Once a month or more often   \n",
       "\n",
       "                                          OpenSource  \\\n",
       "0  The quality of OSS and closed source software ...   \n",
       "1  The quality of OSS and closed source software ...   \n",
       "2  The quality of OSS and closed source software ...   \n",
       "3  The quality of OSS and closed source software ...   \n",
       "4  OSS is, on average, of HIGHER quality than pro...   \n",
       "\n",
       "                               Employment                 Country  \\\n",
       "0  Not employed, and not looking for work          United Kingdom   \n",
       "1      Not employed, but looking for work  Bosnia and Herzegovina   \n",
       "2                      Employed full-time                Thailand   \n",
       "3                      Employed full-time           United States   \n",
       "4                      Employed full-time                 Ukraine   \n",
       "\n",
       "          Student                                            EdLevel  \\\n",
       "0              No                          Primary/elementary school   \n",
       "1  Yes, full-time  Secondary school (e.g. American high school, G...   \n",
       "2              No           Bachelor’s degree (BA, BS, B.Eng., etc.)   \n",
       "3              No           Bachelor’s degree (BA, BS, B.Eng., etc.)   \n",
       "4              No           Bachelor’s degree (BA, BS, B.Eng., etc.)   \n",
       "\n",
       "                                      UndergradMajor  \\\n",
       "0                                                NaN   \n",
       "1                                                NaN   \n",
       "2                      Web development or web design   \n",
       "3  Computer science, computer engineering, or sof...   \n",
       "4  Computer science, computer engineering, or sof...   \n",
       "\n",
       "                                            EduOther  \\\n",
       "0  Taught yourself a new language, framework, or ...   \n",
       "1  Taken an online course in programming or softw...   \n",
       "2  Taught yourself a new language, framework, or ...   \n",
       "3  Taken an online course in programming or softw...   \n",
       "4  Taken an online course in programming or softw...   \n",
       "\n",
       "                    OrgSize  \\\n",
       "0                       NaN   \n",
       "1                       NaN   \n",
       "2      100 to 499 employees   \n",
       "3      100 to 499 employees   \n",
       "4  10,000 or more employees   \n",
       "\n",
       "                                             DevType YearsCode Age1stCode  \\\n",
       "0                                                NaN         4         10   \n",
       "1  Developer, desktop or enterprise applications;...       NaN         17   \n",
       "2  Designer;Developer, back-end;Developer, front-...         3         22   \n",
       "3                              Developer, full-stack         3         16   \n",
       "4  Academic researcher;Developer, desktop or ente...        16         14   \n",
       "\n",
       "       YearsCodePro           CareerSat                 JobSat  \\\n",
       "0               NaN                 NaN                    NaN   \n",
       "1               NaN                 NaN                    NaN   \n",
       "2                 1  Slightly satisfied     Slightly satisfied   \n",
       "3  Less than 1 year      Very satisfied     Slightly satisfied   \n",
       "4                 9   Very dissatisfied  Slightly dissatisfied   \n",
       "\n",
       "               MgrIdiot  MgrMoney   MgrWant  \\\n",
       "0                   NaN       NaN       NaN   \n",
       "1                   NaN       NaN       NaN   \n",
       "2  Not at all confident  Not sure  Not sure   \n",
       "3        Very confident        No  Not sure   \n",
       "4    Somewhat confident       Yes        No   \n",
       "\n",
       "                                             JobSeek          LastHireDate  \\\n",
       "0                                                NaN                   NaN   \n",
       "1                    I am actively looking for a job  I've never had a job   \n",
       "2  I’m not actively looking, but I am open to new...         1-2 years ago   \n",
       "3       I am not interested in new job opportunities  Less than a year ago   \n",
       "4       I am not interested in new job opportunities  Less than a year ago   \n",
       "\n",
       "                                             LastInt FizzBuzz  \\\n",
       "0                                                NaN      NaN   \n",
       "1                                                NaN      NaN   \n",
       "2                Interview with people in peer roles       No   \n",
       "3  Write code by hand (e.g., on a whiteboard);Int...       No   \n",
       "4  Write any code;Write code by hand (e.g., on a ...       No   \n",
       "\n",
       "                                          JobFactors  \\\n",
       "0                                                NaN   \n",
       "1  Financial performance or funding status of the...   \n",
       "2  Languages, frameworks, and other technologies ...   \n",
       "3  Languages, frameworks, and other technologies ...   \n",
       "4  Industry that I'd be working in;Languages, fra...   \n",
       "\n",
       "                                        ResumeUpdate CurrencySymbol  \\\n",
       "0                                                NaN            NaN   \n",
       "1  Something else changed (education, award, medi...            NaN   \n",
       "2                   I was preparing for a job search            THB   \n",
       "3                   I was preparing for a job search            USD   \n",
       "4                   I was preparing for a job search            UAH   \n",
       "\n",
       "           CurrencyDesc  CompTotal CompFreq  ConvertedComp  WorkWeekHrs  \\\n",
       "0                   NaN        NaN      NaN            NaN          NaN   \n",
       "1                   NaN        NaN      NaN            NaN          NaN   \n",
       "2             Thai baht    23000.0  Monthly         8820.0         40.0   \n",
       "3  United States dollar    61000.0   Yearly        61000.0         80.0   \n",
       "4     Ukrainian hryvnia        NaN      NaN            NaN         55.0   \n",
       "\n",
       "                                            WorkPlan  \\\n",
       "0                                                NaN   \n",
       "1                                                NaN   \n",
       "2  There's no schedule or spec; I work on what se...   \n",
       "3  There's no schedule or spec; I work on what se...   \n",
       "4  There is a schedule and/or spec (made by me or...   \n",
       "\n",
       "                                       WorkChallenge  \\\n",
       "0                                                NaN   \n",
       "1                                                NaN   \n",
       "2  Distracting work environment;Inadequate access...   \n",
       "3                                                NaN   \n",
       "4  Being tasked with non-development work;Inadequ...   \n",
       "\n",
       "                         WorkRemote WorkLoc                  ImpSyn  \\\n",
       "0                               NaN     NaN                     NaN   \n",
       "1                               NaN     NaN                     NaN   \n",
       "2  Less than once per month / Never    Home                 Average   \n",
       "3  Less than once per month / Never    Home  A little below average   \n",
       "4             A few days each month  Office  A little above average   \n",
       "\n",
       "                                   CodeRev  CodeRevHrs  \\\n",
       "0                                      NaN         NaN   \n",
       "1                                      NaN         NaN   \n",
       "2                                       No         NaN   \n",
       "3                                       No         NaN   \n",
       "4  Yes, because I see value in code review         NaN   \n",
       "\n",
       "                       UnitTests  \\\n",
       "0                            NaN   \n",
       "1                            NaN   \n",
       "2      No, but I think we should   \n",
       "3      No, but I think we should   \n",
       "4  Yes, it's part of our process   \n",
       "\n",
       "                                         PurchaseHow  \\\n",
       "0                                                NaN   \n",
       "1                                                NaN   \n",
       "2                                           Not sure   \n",
       "3  Developers typically have the most influence o...   \n",
       "4                                           Not sure   \n",
       "\n",
       "                    PurchaseWhat                           LanguageWorkedWith  \\\n",
       "0                            NaN              HTML/CSS;Java;JavaScript;Python   \n",
       "1                            NaN                          C++;HTML/CSS;Python   \n",
       "2  I have little or no influence                                     HTML/CSS   \n",
       "3  I have little or no influence                          C;C++;C#;Python;SQL   \n",
       "4  I have little or no influence  C++;HTML/CSS;Java;JavaScript;Python;SQL;VBA   \n",
       "\n",
       "                            LanguageDesireNextYear  \\\n",
       "0  C;C++;C#;Go;HTML/CSS;Java;JavaScript;Python;SQL   \n",
       "1                      C++;HTML/CSS;JavaScript;SQL   \n",
       "2                                  Elixir;HTML/CSS   \n",
       "3                              C;C#;JavaScript;SQL   \n",
       "4         HTML/CSS;Java;JavaScript;SQL;WebAssembly   \n",
       "\n",
       "                                 DatabaseWorkedWith  \\\n",
       "0                                            SQLite   \n",
       "1                                               NaN   \n",
       "2                                        PostgreSQL   \n",
       "3                                      MySQL;SQLite   \n",
       "4  Couchbase;MongoDB;MySQL;Oracle;PostgreSQL;SQLite   \n",
       "\n",
       "                              DatabaseDesireNextYear  \\\n",
       "0                                              MySQL   \n",
       "1                                              MySQL   \n",
       "2                                         PostgreSQL   \n",
       "3                                       MySQL;SQLite   \n",
       "4  Couchbase;Firebase;MongoDB;MySQL;Oracle;Postgr...   \n",
       "\n",
       "                  PlatformWorkedWith                 PlatformDesireNextYear  \\\n",
       "0                      MacOS;Windows                Android;Arduino;Windows   \n",
       "1                            Windows                                Windows   \n",
       "2                                NaN                                    NaN   \n",
       "3                      Linux;Windows                          Linux;Windows   \n",
       "4  Android;Linux;MacOS;Slack;Windows  Android;Docker;Kubernetes;Linux;Slack   \n",
       "\n",
       "                            WebFrameWorkedWith        WebFrameDesireNextYear  \\\n",
       "0                                 Django;Flask                  Flask;jQuery   \n",
       "1                                       Django                        Django   \n",
       "2                                          NaN                     Other(s):   \n",
       "3                                          NaN                           NaN   \n",
       "4  Django;Express;Flask;jQuery;React.js;Spring  Flask;jQuery;React.js;Spring   \n",
       "\n",
       "  MiscTechWorkedWith                    MiscTechDesireNextYear  \\\n",
       "0            Node.js                                   Node.js   \n",
       "1                NaN                                       NaN   \n",
       "2                NaN                                       NaN   \n",
       "3               .NET                                      .NET   \n",
       "4    Cordova;Node.js  Apache Spark;Hadoop;Node.js;React Native   \n",
       "\n",
       "                                     DevEnviron        OpSys  \\\n",
       "0                    IntelliJ;Notepad++;PyCharm      Windows   \n",
       "1                                  Atom;PyCharm      Windows   \n",
       "2                        Vim;Visual Studio Code  Linux-based   \n",
       "3  Eclipse;Vim;Visual Studio;Visual Studio Code      Windows   \n",
       "4                        IntelliJ;Notepad++;Vim  Linux-based   \n",
       "\n",
       "                               Containers BlockchainOrg  \\\n",
       "0                 I do not use containers           NaN   \n",
       "1                 I do not use containers           NaN   \n",
       "2                 I do not use containers           NaN   \n",
       "3                 I do not use containers    Not at all   \n",
       "4  Outside of work, for personal projects    Not at all   \n",
       "\n",
       "                                        BlockchainIs BetterLife  \\\n",
       "0                                                NaN        Yes   \n",
       "1  Useful across many domains and could change ma...        Yes   \n",
       "2                                                NaN        Yes   \n",
       "3  Useful for decentralized currency (i.e., Bitcoin)        Yes   \n",
       "4                                                NaN        Yes   \n",
       "\n",
       "                                   ITperson OffOn SocialMedia  \\\n",
       "0  Fortunately, someone else has that title   Yes     Twitter   \n",
       "1                                       Yes   Yes   Instagram   \n",
       "2                                       Yes   Yes      Reddit   \n",
       "3                                      SIGH   Yes      Reddit   \n",
       "4                                  Also Yes   Yes    Facebook   \n",
       "\n",
       "               Extraversion ScreenName        SOVisit1st  \\\n",
       "0                    Online   Username              2017   \n",
       "1                    Online   Username              2017   \n",
       "2  In real life (in person)   Username              2011   \n",
       "3  In real life (in person)   Username              2014   \n",
       "4  In real life (in person)   Username  I don't remember   \n",
       "\n",
       "                       SOVisitFreq  \\\n",
       "0  A few times per month or weekly   \n",
       "1            Daily or almost daily   \n",
       "2             A few times per week   \n",
       "3            Daily or almost daily   \n",
       "4           Multiple times per day   \n",
       "\n",
       "                                           SOVisitTo  \\\n",
       "0  Find answers to specific questions;Learn how t...   \n",
       "1  Find answers to specific questions;Learn how t...   \n",
       "2  Find answers to specific questions;Learn how t...   \n",
       "3  Find answers to specific questions;Pass the ti...   \n",
       "4                 Find answers to specific questions   \n",
       "\n",
       "                  SOFindAnswer                     SOTimeSaved  SOHowMuchTime  \\\n",
       "0           3-5 times per week  Stack Overflow was much faster  31-60 minutes   \n",
       "1           3-5 times per week  Stack Overflow was much faster  11-30 minutes   \n",
       "2          6-10 times per week        They were about the same            NaN   \n",
       "3           1-2 times per week  Stack Overflow was much faster  31-60 minutes   \n",
       "4  More than 10 times per week  Stack Overflow was much faster            NaN   \n",
       "\n",
       "  SOAccount                           SOPartFreq  \\\n",
       "0        No                                  NaN   \n",
       "1       Yes      A few times per month or weekly   \n",
       "2       Yes  Less than once per month or monthly   \n",
       "3       Yes  Less than once per month or monthly   \n",
       "4       Yes      A few times per month or weekly   \n",
       "\n",
       "                                              SOJobs  \\\n",
       "0  No, I didn't know that Stack Overflow had a jo...   \n",
       "1  No, I knew that Stack Overflow had a job board...   \n",
       "2                                                Yes   \n",
       "3                                                Yes   \n",
       "4  No, I knew that Stack Overflow had a job board...   \n",
       "\n",
       "                                            EntTeams           SOComm  \\\n",
       "0                No, and I don't know what those are          Neutral   \n",
       "1                No, and I don't know what those are    Yes, somewhat   \n",
       "2  No, I've heard of them, but I am not part of a...          Neutral   \n",
       "3                No, and I don't know what those are   No, not really   \n",
       "4  No, I've heard of them, but I am not part of a...  Yes, definitely   \n",
       "\n",
       "                             WelcomeChange  \\\n",
       "0  Just as welcome now as I felt last year   \n",
       "1  Just as welcome now as I felt last year   \n",
       "2  Just as welcome now as I felt last year   \n",
       "3  Just as welcome now as I felt last year   \n",
       "4  Just as welcome now as I felt last year   \n",
       "\n",
       "                                        SONewContent   Age Gender Trans  \\\n",
       "0  Tech articles written by other developers;Indu...  14.0    Man    No   \n",
       "1  Tech articles written by other developers;Indu...  19.0    Man    No   \n",
       "2  Tech meetups or events in your area;Courses on...  28.0    Man    No   \n",
       "3  Tech articles written by other developers;Indu...  22.0    Man    No   \n",
       "4  Tech meetups or events in your area;Courses on...  30.0    Man    No   \n",
       "\n",
       "                 Sexuality                                 Ethnicity  \\\n",
       "0  Straight / Heterosexual                                       NaN   \n",
       "1  Straight / Heterosexual                                       NaN   \n",
       "2  Straight / Heterosexual                                       NaN   \n",
       "3  Straight / Heterosexual              White or of European descent   \n",
       "4  Straight / Heterosexual  White or of European descent;Multiracial   \n",
       "\n",
       "  Dependents           SurveyLength                  SurveyEase  \n",
       "0         No  Appropriate in length  Neither easy nor difficult  \n",
       "1         No  Appropriate in length  Neither easy nor difficult  \n",
       "2        Yes  Appropriate in length  Neither easy nor difficult  \n",
       "3         No  Appropriate in length                        Easy  \n",
       "4         No  Appropriate in length                        Easy  "
      ]
     },
     "execution_count": 90,
     "metadata": {},
     "output_type": "execute_result"
    }
   ],
   "source": [
    "pd.set_option('display.max_columns', 85)\n",
    "pd.set_option('display.max_rows', 85)\n",
    "\n",
    "df.head()"
   ]
  },
  {
   "cell_type": "markdown",
   "id": "c63d3c11-a151-4451-861e-e38f1bf6ce82",
   "metadata": {},
   "source": [
    "### rename the columns\n",
    "let's rename the column 'ConvertedComp' to something that makes more sense"
   ]
  },
  {
   "cell_type": "code",
   "execution_count": 91,
   "id": "5cdd8ec4-2f79-4db0-8f02-fe7454990688",
   "metadata": {},
   "outputs": [
    {
     "data": {
      "text/plain": [
       "0            NaN\n",
       "1            NaN\n",
       "2         8820.0\n",
       "3        61000.0\n",
       "4            NaN\n",
       "          ...   \n",
       "88878        NaN\n",
       "88879        NaN\n",
       "88880        NaN\n",
       "88881        NaN\n",
       "88882        NaN\n",
       "Name: SalaryUSD, Length: 88883, dtype: float64"
      ]
     },
     "execution_count": 91,
     "metadata": {},
     "output_type": "execute_result"
    }
   ],
   "source": [
    "df.rename(columns = {'ConvertedComp': 'SalaryUSD'}, inplace=True)\n",
    "df['SalaryUSD']"
   ]
  },
  {
   "cell_type": "markdown",
   "id": "4748ce5e-ee2a-426a-a7a7-070adc99f3b3",
   "metadata": {},
   "source": [
    "### change the values\n",
    "Lets change Yes to True and No to False in the Hobbyist Column:"
   ]
  },
  {
   "cell_type": "code",
   "execution_count": 92,
   "id": "6756f6f4-0f69-4b43-8e72-a467796ac954",
   "metadata": {},
   "outputs": [
    {
     "data": {
      "text/plain": [
       "0        Yes\n",
       "1         No\n",
       "2        Yes\n",
       "3         No\n",
       "4        Yes\n",
       "        ... \n",
       "88878    Yes\n",
       "88879     No\n",
       "88880     No\n",
       "88881     No\n",
       "88882    Yes\n",
       "Name: Hobbyist, Length: 88883, dtype: object"
      ]
     },
     "execution_count": 92,
     "metadata": {},
     "output_type": "execute_result"
    }
   ],
   "source": [
    "df ['Hobbyist']"
   ]
  },
  {
   "cell_type": "code",
   "execution_count": 93,
   "id": "9d81da80-fb0b-4ab4-ace5-75427e06d732",
   "metadata": {},
   "outputs": [
    {
     "data": {
      "text/plain": [
       "0         True\n",
       "1        False\n",
       "2         True\n",
       "3        False\n",
       "4         True\n",
       "         ...  \n",
       "88878     True\n",
       "88879    False\n",
       "88880    False\n",
       "88881    False\n",
       "88882     True\n",
       "Name: Hobbyist, Length: 88883, dtype: bool"
      ]
     },
     "execution_count": 93,
     "metadata": {},
     "output_type": "execute_result"
    }
   ],
   "source": [
    "df['Hobbyist'] = df['Hobbyist'].map({'Yes': True, 'No': False})\n",
    "df['Hobbyist']"
   ]
  },
  {
   "cell_type": "code",
   "execution_count": null,
   "id": "f446e9b1-dc00-4078-b9e2-7387648ccd8c",
   "metadata": {},
   "outputs": [],
   "source": []
  },
  {
   "cell_type": "code",
   "execution_count": null,
   "id": "33287c81-67ba-41dc-bcf6-6d92942b5dde",
   "metadata": {},
   "outputs": [],
   "source": []
  }
 ],
 "metadata": {
  "kernelspec": {
   "display_name": "Python 3 (ipykernel)",
   "language": "python",
   "name": "python3"
  },
  "language_info": {
   "codemirror_mode": {
    "name": "ipython",
    "version": 3
   },
   "file_extension": ".py",
   "mimetype": "text/x-python",
   "name": "python",
   "nbconvert_exporter": "python",
   "pygments_lexer": "ipython3",
   "version": "3.8.10"
  },
  "widgets": {
   "application/vnd.jupyter.widget-state+json": {
    "state": {},
    "version_major": 2,
    "version_minor": 0
   }
  }
 },
 "nbformat": 4,
 "nbformat_minor": 5
}
